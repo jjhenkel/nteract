{
 "cells": [
  {
   "cell_type": "markdown",
   "metadata": {
    "nteract": {
     "transient": {
      "deleting": false
     }
    }
   },
   "source": [
    "## $DS^2$: Operator Selection\n",
    "\n",
    "In this notebook, we'll query the `gh-2017` corpus to find the most used data science \"operators.\" An operator, in this context, is either something you call _on a dataframe_ (e.g., `df.drop(...)`) or something you call and _pass a dataframe_ (e.g., `foo.fit_transform(df)`).\n",
    "\n",
    "There are many other possibile non-call operators. For example, one can filter a dataframe like so: `df[df.x == 12]`. We will also attempt to capture a sampling of such operators in our analysis but, in this notebook, we will stick to understanding what operators (based on calls) are widely used."
   ]
  },
  {
   "cell_type": "code",
   "execution_count": 22,
   "metadata": {
    "collapsed": true,
    "execution": {
     "iopub.execute_input": "2021-07-09T16:22:58.308Z",
     "iopub.status.busy": "2021-07-09T16:22:58.240Z",
     "iopub.status.idle": "2021-07-09T16:22:58.454Z",
     "shell.execute_reply": "2021-07-09T16:22:58.527Z"
    },
    "jupyter": {
     "outputs_hidden": false,
     "source_hidden": false
    },
    "nteract": {
     "transient": {
      "deleting": false
     }
    }
   },
   "outputs": [
    {
     "name": "stdout",
     "output_type": "stream",
     "text": [
      "The autoreload extension is already loaded. To reload it, use:\n",
      "  %reload_ext autoreload\n"
     ]
    }
   ],
   "source": [
    "%load_ext autoreload\n",
    "%autoreload 2\n",
    "\n",
    "from codebook.python import *\n",
    "from codebook.semantics import DSNotebooks as DSN\n",
    "\n",
    "# Use the gh-2017 dataset. ~760k unique python notebooks\n",
    "Evaluator.use_ds_test_1k()\n",
    "\n",
    "# flows_df = pd.read_csv('/data/gh-2017/results/flows-read-to-fit.csv')\n",
    "# DSN.set_prefilters(set(flows_df.fpath.unique()))"
   ]
  },
  {
   "cell_type": "code",
   "execution_count": null,
   "metadata": {
    "collapsed": true,
    "jupyter": {
     "outputs_hidden": false,
     "source_hidden": false
    },
    "nteract": {
     "transient": {
      "deleting": false
     }
    }
   },
   "outputs": [],
   "source": [
    "tmp = execute(\n",
    "  use_of(DSN.pandas_read()) \n",
    "  compile=True\n",
    ")"
   ]
  },
  {
   "cell_type": "code",
   "execution_count": 2,
   "metadata": {
    "collapsed": true,
    "execution": {
     "iopub.execute_input": "2021-07-07T17:34:43.415Z",
     "iopub.status.busy": "2021-07-07T17:34:43.382Z",
     "iopub.status.idle": "2021-07-07T16:31:32.344Z",
     "shell.execute_reply": "2021-07-07T16:31:32.392Z"
    },
    "jupyter": {
     "outputs_hidden": false,
     "source_hidden": false
    },
    "nteract": {
     "transient": {
      "deleting": false
     }
    }
   },
   "outputs": [
    {
     "name": "stdout",
     "output_type": "stream",
     "text": [
      "  + Had only 38896 allowable files (pre-filter files)\n",
      "  + File select time: 13.5941s\n",
      "  + Found 17226 matching files\n",
      "  + Query already compiled (cached) `/tmp/queries/1695105906fd5ffdcaeb2de47f4ae07987d0b12d4d852ff044af54071377fc07.dl`\n",
      "  + Query time: 15.4015s\n",
      "  + Collation time: 0.2035s\n",
      "Total time: 29.2116s\n",
      "  + Had only 16571 allowable files (pre-filter files)\n",
      "  + File select time: 0.5080s\n",
      "  + Found 16571 matching files\n",
      "  + Query already compiled (cached) `/tmp/queries/aa10ea9669be3d8ff9e6e758129fb5eaa06d173c9d2854567fe8e463b8c0f034.dl`\n",
      "  + Query time: 16.6097s\n",
      "  + Collation time: 0.4176s\n",
      "Total time: 17.5447s\n",
      "  + Had only 16571 allowable files (pre-filter files)\n",
      "  + File select time: 0.5003s\n",
      "  + Found 16571 matching files\n",
      "  + Query already compiled (cached) `/tmp/queries/15a07acf4919d48738ae053a00584c2c0914d4d2088f558a6ed5b97d770ac47c.dl`\n",
      "  + Query time: 16.4382s\n",
      "  + Collation time: 0.0806s\n",
      "Total time: 17.0283s\n",
      "  + Had only 16571 allowable files (pre-filter files)\n",
      "  + File select time: 0.5099s\n",
      "  + Found 16571 matching files\n",
      "  + Query already compiled (cached) `/tmp/queries/1aec7d01205ffa455742566f930c9b35d082cf24891b58155e5518507cd0d3ab.dl`\n",
      "  + Query time: 70.0013s\n",
      "  + Collation time: 7.0519s\n",
      "Total time: 77.5731s\n",
      "  + Had only 15126 allowable files (pre-filter files)\n",
      "  + File select time: 0.5096s\n",
      "  + Found 15126 matching files\n",
      "  + Query already compiled (cached) `/tmp/queries/f1805307abdd39f2b484e4fda739c71cd951ab552be7a7e71844c50e86d2682b.dl`\n",
      "  + Query time: 82.0082s\n",
      "  + Collation time: 0.9319s\n",
      "Total time: 83.8260s\n",
      "  + Had only 8405 allowable files (pre-filter files)\n",
      "  + File select time: 0.5114s\n",
      "  + Found 8405 matching files\n",
      "  + Query already compiled (cached) `/tmp/queries/2a5347b6e4c187983fe2c573ede5f74928a2e8cdb82fed88564c1a79948c3015.dl`\n",
      "  + Query time: 616.2560s\n",
      "  + Collation time: 0.1361s\n",
      "Total time: 617.0130s\n",
      "  + Had only 16571 allowable files (pre-filter files)\n",
      "  + File select time: 0.5117s\n",
      "  + Found 16571 matching files\n",
      "  + Query already compiled (cached) `/tmp/queries/c37d423089d04cde4279990e0d88a85f8eaab4d298c6cede7c45e70e8eedf679.dl`\n",
      "  + Query time: 16.7519s\n",
      "  + Collation time: 0.0964s\n",
      "Total time: 23.5811s\n",
      "  + Had only 15126 allowable files (pre-filter files)\n",
      "  + File select time: 0.5093s\n",
      "  + Found 15126 matching files\n",
      "  + Query already compiled (cached) `/tmp/queries/c37d423089d04cde4279990e0d88a85f8eaab4d298c6cede7c45e70e8eedf679.dl`\n",
      "  + Query time: 16.0167s\n",
      "  + Collation time: 0.1376s\n",
      "Total time: 17.3608s\n",
      "  + Had only 8405 allowable files (pre-filter files)\n",
      "  + File select time: 13.2541s\n",
      "  + Found 7020 matching files\n",
      "  + Query already compiled (cached) `/tmp/queries/f433015466ce88e5c82d8a24bfb1836829caf3d8f8cfa190acfe3baf9c9f253b.dl`\n",
      "  + Query time: 27.6876s\n",
      "  + Collation time: 0.0092s\n",
      "Total time: 41.3100s\n"
     ]
    },
    {
     "ename": "SyntaxError",
     "evalue": "unexpected character after line continuation character (<string>, line 1)",
     "output_type": "error",
     "traceback": [
      "Traceback \u001b[0;36m(most recent call last)\u001b[0m:\n",
      "  File \u001b[1;32m\"/usr/local/lib/python3.9/site-packages/IPython/core/interactiveshell.py\"\u001b[0m, line \u001b[1;32m3441\u001b[0m, in \u001b[1;35mrun_code\u001b[0m\n    exec(code_obj, self.user_global_ns, self.user_ns)\n",
      "  File \u001b[1;32m\"<ipython-input-2-ad7d4a850b46>\"\u001b[0m, line \u001b[1;32m1\u001b[0m, in \u001b[1;35m<module>\u001b[0m\n    drops, df1, df2, df3 = DSN.drops()\n",
      "  File \u001b[1;32m\"/app/applications/jupyter-extension/nteract_on_jupyter/notebooks/codebook/semantics/__init__.py\"\u001b[0m, line \u001b[1;32m424\u001b[0m, in \u001b[1;35mdrops\u001b[0m\n    df2['cols'] = Utils.source_list_to_py_list(df2, 'source_text_cols')\n",
      "  File \u001b[1;32m\"/app/applications/jupyter-extension/nteract_on_jupyter/notebooks/codebook/python/__init__.py\"\u001b[0m, line \u001b[1;32m27\u001b[0m, in \u001b[1;35msource_list_to_py_list\u001b[0m\n    return ('[' + df[col].str.strip('[]') + ']').apply(\n",
      "  File \u001b[1;32m\"/usr/local/lib/python3.9/site-packages/pandas/core/series.py\"\u001b[0m, line \u001b[1;32m4138\u001b[0m, in \u001b[1;35mapply\u001b[0m\n    mapped = lib.map_infer(values, f, convert=convert_dtype)\n",
      "  File \u001b[1;32m\"pandas/_libs/lib.pyx\"\u001b[0m, line \u001b[1;32m2467\u001b[0m, in \u001b[1;35mpandas._libs.lib.map_infer\u001b[0m\n",
      "\u001b[0;36m  File \u001b[0;32m\"/app/applications/jupyter-extension/nteract_on_jupyter/notebooks/codebook/python/__init__.py\"\u001b[0;36m, line \u001b[0;32m25\u001b[0;36m, in \u001b[0;35m_to_py_list\u001b[0;36m\u001b[0m\n\u001b[0;31m    return eval(clean)\u001b[0m\n",
      "\u001b[0;36m  File \u001b[0;32m\"<string>\"\u001b[0;36m, line \u001b[0;32m1\u001b[0m\n\u001b[0;31m    ['YardLineFixed', 'YardLineDirection','Description', 'PlayType', \\         'PassType', 'RushDirection', 'Yards', 'DefenseTeam', 'OffenseTeam', \\         'Formation']\u001b[0m\n\u001b[0m                                                                                                                                                                        ^\u001b[0m\n\u001b[0;31mSyntaxError\u001b[0m\u001b[0;31m:\u001b[0m unexpected character after line continuation character\n"
     ]
    }
   ],
   "source": [
    "drops, df1, df2, df3 = DSN.drops()"
   ]
  },
  {
   "cell_type": "code",
   "execution_count": 42,
   "metadata": {
    "collapsed": true,
    "execution": {
     "iopub.execute_input": "2021-07-07T16:43:16.919Z",
     "iopub.status.busy": "2021-07-07T16:43:16.883Z",
     "iopub.status.idle": "2021-07-07T16:43:19.542Z",
     "shell.execute_reply": "2021-07-07T16:43:19.478Z"
    },
    "jupyter": {
     "outputs_hidden": false,
     "source_hidden": false
    },
    "nteract": {
     "transient": {
      "deleting": false
     }
    }
   },
   "outputs": [],
   "source": [
    "tmp = df1.set_index('gid_use').join(uses1.set_index('gid_use')[[\"source_text_cols\"]])"
   ]
  },
  {
   "cell_type": "code",
   "execution_count": 41,
   "metadata": {
    "collapsed": true,
    "execution": {
     "iopub.execute_input": "2021-07-07T16:42:12.754Z",
     "iopub.status.busy": "2021-07-07T16:42:12.717Z",
     "iopub.status.idle": "2021-07-07T16:42:12.836Z",
     "shell.execute_reply": "2021-07-07T16:42:12.877Z"
    },
    "jupyter": {
     "outputs_hidden": false,
     "source_hidden": false
    },
    "nteract": {
     "transient": {
      "deleting": false
     }
    }
   },
   "outputs": [
    {
     "data": {
      "text/html": [
       "<div>\n",
       "<style scoped>\n",
       "    .dataframe tbody tr th:only-of-type {\n",
       "        vertical-align: middle;\n",
       "    }\n",
       "\n",
       "    .dataframe tbody tr th {\n",
       "        vertical-align: top;\n",
       "    }\n",
       "\n",
       "    .dataframe thead th {\n",
       "        text-align: right;\n",
       "    }\n",
       "</style>\n",
       "<table border=\"1\" class=\"dataframe\">\n",
       "  <thead>\n",
       "    <tr style=\"text-align: right;\">\n",
       "      <th></th>\n",
       "      <th>fpath</th>\n",
       "      <th>source_text_use</th>\n",
       "      <th>start_line_use</th>\n",
       "      <th>start_col_use</th>\n",
       "      <th>end_line_use</th>\n",
       "      <th>end_col_use</th>\n",
       "      <th>source_text_call</th>\n",
       "      <th>start_line_call</th>\n",
       "      <th>start_col_call</th>\n",
       "      <th>end_line_call</th>\n",
       "      <th>end_col_call</th>\n",
       "      <th>gid_call</th>\n",
       "      <th>source_text_cols</th>\n",
       "    </tr>\n",
       "    <tr>\n",
       "      <th>gid_use</th>\n",
       "      <th></th>\n",
       "      <th></th>\n",
       "      <th></th>\n",
       "      <th></th>\n",
       "      <th></th>\n",
       "      <th></th>\n",
       "      <th></th>\n",
       "      <th></th>\n",
       "      <th></th>\n",
       "      <th></th>\n",
       "      <th></th>\n",
       "      <th></th>\n",
       "      <th></th>\n",
       "    </tr>\n",
       "  </thead>\n",
       "  <tbody>\n",
       "    <tr>\n",
       "      <th>-9194221465426937159</th>\n",
       "      <td>/cb-target/python/98/56/74cfed73e94c675d8b51a6...</td>\n",
       "      <td>lab</td>\n",
       "      <td>102</td>\n",
       "      <td>41</td>\n",
       "      <td>102</td>\n",
       "      <td>44</td>\n",
       "      <td>test.drop(lab,1)</td>\n",
       "      <td>102</td>\n",
       "      <td>31</td>\n",
       "      <td>102</td>\n",
       "      <td>47</td>\n",
       "      <td>1436502845706836184</td>\n",
       "      <td>'churndep'</td>\n",
       "    </tr>\n",
       "    <tr>\n",
       "      <th>-9163347779137382803</th>\n",
       "      <td>/cb-target/python/05/c0/482c0c73ed954256addb5d...</td>\n",
       "      <td>lab</td>\n",
       "      <td>165</td>\n",
       "      <td>48</td>\n",
       "      <td>165</td>\n",
       "      <td>51</td>\n",
       "      <td>data_train.drop(lab,1)</td>\n",
       "      <td>165</td>\n",
       "      <td>32</td>\n",
       "      <td>165</td>\n",
       "      <td>54</td>\n",
       "      <td>-5787063165355767296</td>\n",
       "      <td>'pitch_type'</td>\n",
       "    </tr>\n",
       "    <tr>\n",
       "      <th>-9155254853313462531</th>\n",
       "      <td>/cb-target/python/8a/bf/dfad71c1ca8f529809cf5e...</td>\n",
       "      <td>lab</td>\n",
       "      <td>28</td>\n",
       "      <td>19</td>\n",
       "      <td>28</td>\n",
       "      <td>22</td>\n",
       "      <td>train.drop(lab,1)</td>\n",
       "      <td>28</td>\n",
       "      <td>8</td>\n",
       "      <td>28</td>\n",
       "      <td>25</td>\n",
       "      <td>-947904545826073260</td>\n",
       "      <td>'churndep'</td>\n",
       "    </tr>\n",
       "    <tr>\n",
       "      <th>-9113105442898604565</th>\n",
       "      <td>/cb-target/python/f9/fd/a9f41294d5c10e58606e5b...</td>\n",
       "      <td>feature</td>\n",
       "      <td>53</td>\n",
       "      <td>21</td>\n",
       "      <td>53</td>\n",
       "      <td>28</td>\n",
       "      <td>data.drop(feature, axis=1)</td>\n",
       "      <td>53</td>\n",
       "      <td>11</td>\n",
       "      <td>53</td>\n",
       "      <td>37</td>\n",
       "      <td>1685407333614040123</td>\n",
       "      <td>\"Fresh\"</td>\n",
       "    </tr>\n",
       "    <tr>\n",
       "      <th>-9081630177581378688</th>\n",
       "      <td>/cb-target/python/6b/d4/f1101e11868ed072ac0608...</td>\n",
       "      <td>target</td>\n",
       "      <td>189</td>\n",
       "      <td>37</td>\n",
       "      <td>189</td>\n",
       "      <td>43</td>\n",
       "      <td>validation_data.drop(target, axis = 1)</td>\n",
       "      <td>189</td>\n",
       "      <td>16</td>\n",
       "      <td>189</td>\n",
       "      <td>54</td>\n",
       "      <td>-2773968944138403843</td>\n",
       "      <td>'safe_loans'</td>\n",
       "    </tr>\n",
       "    <tr>\n",
       "      <th>...</th>\n",
       "      <td>...</td>\n",
       "      <td>...</td>\n",
       "      <td>...</td>\n",
       "      <td>...</td>\n",
       "      <td>...</td>\n",
       "      <td>...</td>\n",
       "      <td>...</td>\n",
       "      <td>...</td>\n",
       "      <td>...</td>\n",
       "      <td>...</td>\n",
       "      <td>...</td>\n",
       "      <td>...</td>\n",
       "      <td>...</td>\n",
       "    </tr>\n",
       "    <tr>\n",
       "      <th>9093606210494608052</th>\n",
       "      <td>/cb-target/python/a6/bd/df6387710a08b13112a17c...</td>\n",
       "      <td>dep_var_name</td>\n",
       "      <td>537</td>\n",
       "      <td>26</td>\n",
       "      <td>537</td>\n",
       "      <td>38</td>\n",
       "      <td>valid_data.drop(dep_var_name, axis=1)</td>\n",
       "      <td>537</td>\n",
       "      <td>10</td>\n",
       "      <td>537</td>\n",
       "      <td>47</td>\n",
       "      <td>1535846630715324820</td>\n",
       "      <td>'Response'</td>\n",
       "    </tr>\n",
       "    <tr>\n",
       "      <th>9177857710285211791</th>\n",
       "      <td>/cb-target/python/52/da/27a44d1880cce3b5403ee4...</td>\n",
       "      <td>target</td>\n",
       "      <td>252</td>\n",
       "      <td>66</td>\n",
       "      <td>252</td>\n",
       "      <td>72</td>\n",
       "      <td>validation_data.drop(target, axis=1)</td>\n",
       "      <td>252</td>\n",
       "      <td>45</td>\n",
       "      <td>252</td>\n",
       "      <td>81</td>\n",
       "      <td>7016841324524147076</td>\n",
       "      <td>'safe_loans'</td>\n",
       "    </tr>\n",
       "    <tr>\n",
       "      <th>9182387749492712282</th>\n",
       "      <td>/cb-target/python/5b/f4/c0395e59c6d0a75202d1bb...</td>\n",
       "      <td>response</td>\n",
       "      <td>98</td>\n",
       "      <td>21</td>\n",
       "      <td>98</td>\n",
       "      <td>29</td>\n",
       "      <td>data.drop(response, axis = 1)</td>\n",
       "      <td>98</td>\n",
       "      <td>11</td>\n",
       "      <td>98</td>\n",
       "      <td>40</td>\n",
       "      <td>9197782229524717749</td>\n",
       "      <td>'Grocery'</td>\n",
       "    </tr>\n",
       "    <tr>\n",
       "      <th>9182710990660449973</th>\n",
       "      <td>/cb-target/python/cc/76/d5e2454a30b1900e749a77...</td>\n",
       "      <td>lab</td>\n",
       "      <td>90</td>\n",
       "      <td>33</td>\n",
       "      <td>90</td>\n",
       "      <td>36</td>\n",
       "      <td>train_df.drop(lab,1)</td>\n",
       "      <td>90</td>\n",
       "      <td>19</td>\n",
       "      <td>90</td>\n",
       "      <td>39</td>\n",
       "      <td>-6615913795226506570</td>\n",
       "      <td>'churndep'</td>\n",
       "    </tr>\n",
       "    <tr>\n",
       "      <th>9192850400806402299</th>\n",
       "      <td>/cb-target/python/27/99/e0ad1cc19e8300862d6880...</td>\n",
       "      <td>TARGET_COLUMN</td>\n",
       "      <td>732</td>\n",
       "      <td>24</td>\n",
       "      <td>732</td>\n",
       "      <td>37</td>\n",
       "      <td>df_train.drop(TARGET_COLUMN, axis=1)</td>\n",
       "      <td>732</td>\n",
       "      <td>10</td>\n",
       "      <td>732</td>\n",
       "      <td>46</td>\n",
       "      <td>1194345200171837537</td>\n",
       "      <td>'Activity_Score'</td>\n",
       "    </tr>\n",
       "  </tbody>\n",
       "</table>\n",
       "<p>551 rows × 13 columns</p>\n",
       "</div>"
      ],
      "text/plain": [
       "                                                                  fpath  \\\n",
       "gid_use                                                                   \n",
       "-9194221465426937159  /cb-target/python/98/56/74cfed73e94c675d8b51a6...   \n",
       "-9163347779137382803  /cb-target/python/05/c0/482c0c73ed954256addb5d...   \n",
       "-9155254853313462531  /cb-target/python/8a/bf/dfad71c1ca8f529809cf5e...   \n",
       "-9113105442898604565  /cb-target/python/f9/fd/a9f41294d5c10e58606e5b...   \n",
       "-9081630177581378688  /cb-target/python/6b/d4/f1101e11868ed072ac0608...   \n",
       "...                                                                 ...   \n",
       " 9093606210494608052  /cb-target/python/a6/bd/df6387710a08b13112a17c...   \n",
       " 9177857710285211791  /cb-target/python/52/da/27a44d1880cce3b5403ee4...   \n",
       " 9182387749492712282  /cb-target/python/5b/f4/c0395e59c6d0a75202d1bb...   \n",
       " 9182710990660449973  /cb-target/python/cc/76/d5e2454a30b1900e749a77...   \n",
       " 9192850400806402299  /cb-target/python/27/99/e0ad1cc19e8300862d6880...   \n",
       "\n",
       "                     source_text_use  start_line_use  start_col_use  \\\n",
       "gid_use                                                               \n",
       "-9194221465426937159             lab             102             41   \n",
       "-9163347779137382803             lab             165             48   \n",
       "-9155254853313462531             lab              28             19   \n",
       "-9113105442898604565         feature              53             21   \n",
       "-9081630177581378688          target             189             37   \n",
       "...                              ...             ...            ...   \n",
       " 9093606210494608052    dep_var_name             537             26   \n",
       " 9177857710285211791          target             252             66   \n",
       " 9182387749492712282        response              98             21   \n",
       " 9182710990660449973             lab              90             33   \n",
       " 9192850400806402299   TARGET_COLUMN             732             24   \n",
       "\n",
       "                      end_line_use  end_col_use  \\\n",
       "gid_use                                           \n",
       "-9194221465426937159           102           44   \n",
       "-9163347779137382803           165           51   \n",
       "-9155254853313462531            28           22   \n",
       "-9113105442898604565            53           28   \n",
       "-9081630177581378688           189           43   \n",
       "...                            ...          ...   \n",
       " 9093606210494608052           537           38   \n",
       " 9177857710285211791           252           72   \n",
       " 9182387749492712282            98           29   \n",
       " 9182710990660449973            90           36   \n",
       " 9192850400806402299           732           37   \n",
       "\n",
       "                                            source_text_call  start_line_call  \\\n",
       "gid_use                                                                         \n",
       "-9194221465426937159                        test.drop(lab,1)              102   \n",
       "-9163347779137382803                  data_train.drop(lab,1)              165   \n",
       "-9155254853313462531                       train.drop(lab,1)               28   \n",
       "-9113105442898604565              data.drop(feature, axis=1)               53   \n",
       "-9081630177581378688  validation_data.drop(target, axis = 1)              189   \n",
       "...                                                      ...              ...   \n",
       " 9093606210494608052   valid_data.drop(dep_var_name, axis=1)              537   \n",
       " 9177857710285211791    validation_data.drop(target, axis=1)              252   \n",
       " 9182387749492712282           data.drop(response, axis = 1)               98   \n",
       " 9182710990660449973                    train_df.drop(lab,1)               90   \n",
       " 9192850400806402299    df_train.drop(TARGET_COLUMN, axis=1)              732   \n",
       "\n",
       "                      start_col_call  end_line_call  end_col_call  \\\n",
       "gid_use                                                             \n",
       "-9194221465426937159              31            102            47   \n",
       "-9163347779137382803              32            165            54   \n",
       "-9155254853313462531               8             28            25   \n",
       "-9113105442898604565              11             53            37   \n",
       "-9081630177581378688              16            189            54   \n",
       "...                              ...            ...           ...   \n",
       " 9093606210494608052              10            537            47   \n",
       " 9177857710285211791              45            252            81   \n",
       " 9182387749492712282              11             98            40   \n",
       " 9182710990660449973              19             90            39   \n",
       " 9192850400806402299              10            732            46   \n",
       "\n",
       "                                 gid_call  source_text_cols  \n",
       "gid_use                                                      \n",
       "-9194221465426937159  1436502845706836184        'churndep'  \n",
       "-9163347779137382803 -5787063165355767296      'pitch_type'  \n",
       "-9155254853313462531  -947904545826073260        'churndep'  \n",
       "-9113105442898604565  1685407333614040123           \"Fresh\"  \n",
       "-9081630177581378688 -2773968944138403843      'safe_loans'  \n",
       "...                                   ...               ...  \n",
       " 9093606210494608052  1535846630715324820        'Response'  \n",
       " 9177857710285211791  7016841324524147076      'safe_loans'  \n",
       " 9182387749492712282  9197782229524717749         'Grocery'  \n",
       " 9182710990660449973 -6615913795226506570        'churndep'  \n",
       " 9192850400806402299  1194345200171837537  'Activity_Score'  \n",
       "\n",
       "[551 rows x 13 columns]"
      ]
     },
     "execution_count": 41,
     "metadata": {},
     "output_type": "execute_result"
    }
   ],
   "source": [
    "tmp[tmp.source_text_cols != tmp.source_text_use]"
   ]
  },
  {
   "cell_type": "code",
   "execution_count": 2,
   "metadata": {
    "collapsed": true,
    "execution": {
     "iopub.execute_input": "2021-07-02T01:54:02.303Z",
     "iopub.status.busy": "2021-07-02T01:54:02.230Z",
     "iopub.status.idle": "2021-07-02T01:54:04.719Z",
     "shell.execute_reply": "2021-07-02T01:54:04.639Z"
    },
    "jupyter": {
     "outputs_hidden": false,
     "source_hidden": false
    },
    "nteract": {
     "transient": {
      "deleting": false
     }
    }
   },
   "outputs": [],
   "source": [
    "# Let's save these so we can avoid re-querying later...\n",
    "reads.to_csv('/data/gh-2017/results/pandas-reads-2.csv', encoding='utf-8', index=False)"
   ]
  },
  {
   "cell_type": "code",
   "execution_count": 3,
   "metadata": {
    "collapsed": true,
    "execution": {
     "iopub.execute_input": "2021-07-02T01:54:39.965Z",
     "iopub.status.busy": "2021-07-02T01:54:39.888Z",
     "iopub.status.idle": "2021-07-02T02:02:05.210Z",
     "shell.execute_reply": "2021-07-02T02:02:05.124Z"
    },
    "jupyter": {
     "outputs_hidden": false,
     "source_hidden": false
    },
    "nteract": {
     "transient": {
      "deleting": false
     }
    }
   },
   "outputs": [
    {
     "name": "stdout",
     "output_type": "stream",
     "text": [
      "  + Had only 181799 allowable files (pre-filter files)\n",
      "  + File select time: 0.5585s\n",
      "  + Found 181799 matching files\n",
      "  + Compile time: 12.8148s\n",
      "  + Query time: 269.7335s\n",
      "  + Collation time: 6.6299s\n",
      "Total time: 291.2666s\n",
      "  + Had only 181799 allowable files (pre-filter files)\n",
      "  + File select time: 0.5084s\n",
      "  + Found 181799 matching files\n",
      "  + Compile time: 13.2327s\n",
      "  + Query time: 128.8160s\n",
      "  + Collation time: 1.4943s\n",
      "Total time: 152.8976s\n"
     ]
    }
   ],
   "source": [
    "# Let's look at any call where the _target_ of said call is a use of one of the `pd.read_*` calls\n",
    "# This should capture things like df.drop(...) or df.head(...)\n",
    "calls_on_dataframes = execute(\n",
    "  call() % select('name') % 'call'\n",
    "  |where| call_target()\n",
    "    |is_| anything(from_set(DSN.use_of_pandas_read(), 'gid')),\n",
    "  compile=True\n",
    ")"
   ]
  },
  {
   "cell_type": "code",
   "execution_count": 4,
   "metadata": {
    "collapsed": true,
    "execution": {
     "iopub.execute_input": "2021-07-02T02:07:08.633Z",
     "iopub.status.busy": "2021-07-02T02:07:08.555Z",
     "iopub.status.idle": "2021-07-02T02:07:10.397Z",
     "shell.execute_reply": "2021-07-02T02:07:10.316Z"
    },
    "jupyter": {
     "outputs_hidden": false,
     "source_hidden": false
    },
    "nteract": {
     "transient": {
      "deleting": false
     }
    }
   },
   "outputs": [],
   "source": [
    "# Let's save these so we can avoid re-querying later...\n",
    "calls_on_dataframes.to_csv('/data/gh-2017/results/calls-on-dataframes-2.csv', encoding='utf-8', index=False)"
   ]
  },
  {
   "cell_type": "code",
   "execution_count": 5,
   "metadata": {
    "collapsed": true,
    "execution": {
     "iopub.execute_input": "2021-07-02T02:08:01.541Z",
     "iopub.status.busy": "2021-07-02T02:08:01.462Z",
     "iopub.status.idle": "2021-07-02T02:10:27.902Z",
     "shell.execute_reply": "2021-07-02T02:10:27.978Z"
    },
    "jupyter": {
     "outputs_hidden": false,
     "source_hidden": false
    },
    "nteract": {
     "transient": {
      "deleting": false
     }
    }
   },
   "outputs": [
    {
     "name": "stdout",
     "output_type": "stream",
     "text": [
      "  + Had only 181799 allowable files (pre-filter files)\n",
      "  + File select time: 0.5004s\n",
      "  + Found 181799 matching files\n",
      "  + Compile time: 12.2598s\n",
      "  + Query time: 123.7710s\n",
      "  + Collation time: 0.5320s\n",
      "Total time: 145.8114s\n"
     ]
    }
   ],
   "source": [
    "# Let's look at any call where any _argment_ of said call is a use of one of the `pd.read_*` calls\n",
    "# This should capture things like pd.merge(...df...) and x.fit_transform(df)\n",
    "calls_with_dataframes_as_args = execute(\n",
    "  call() % select('name') % 'call'\n",
    "  |where| any_arg()\n",
    "    |is_| anything(from_set(DSN.use_of_pandas_read(), 'gid')),\n",
    "  compile=True\n",
    ")"
   ]
  },
  {
   "cell_type": "code",
   "execution_count": 6,
   "metadata": {
    "collapsed": true,
    "execution": {
     "iopub.execute_input": "2021-07-02T02:10:28.120Z",
     "iopub.status.busy": "2021-07-02T02:10:28.049Z",
     "iopub.status.idle": "2021-07-02T02:10:28.537Z",
     "shell.execute_reply": "2021-07-02T02:10:28.459Z"
    },
    "jupyter": {
     "outputs_hidden": false,
     "source_hidden": false
    },
    "nteract": {
     "transient": {
      "deleting": false
     }
    }
   },
   "outputs": [],
   "source": [
    "# Let's save these so we can avoid re-querying later...\n",
    "calls_with_dataframes_as_args.to_csv('/data/gh-2017/results/calls-with-dataframes-as-args-2.csv', encoding='utf-8', index=False)"
   ]
  },
  {
   "cell_type": "code",
   "execution_count": 2,
   "metadata": {
    "collapsed": true,
    "execution": {
     "iopub.execute_input": "2021-07-06T15:55:22.046Z",
     "iopub.status.busy": "2021-07-06T15:55:22.009Z",
     "iopub.status.idle": "2021-07-06T16:40:58.622Z",
     "shell.execute_reply": "2021-07-06T16:40:58.683Z"
    },
    "jupyter": {
     "outputs_hidden": false,
     "source_hidden": false
    },
    "nteract": {
     "transient": {
      "deleting": false
     }
    }
   },
   "outputs": [
    {
     "name": "stdout",
     "output_type": "stream",
     "text": [
      "  + File select time: 15.5784s\n",
      "  + Found 273870 matching files\n",
      "  + Query already compiled (cached) `/tmp/queries/d475318973531224689b830105c1300d9621cbf129cc341fb5c98c12a55daac6.dl`\n",
      "  + Query time: 171.6464s\n",
      "  + Collation time: 0.8490s\n",
      "Total time: 188.2752s\n",
      "  + Had only 273280 allowable files (pre-filter files)\n",
      "  + File select time: 0.5973s\n",
      "  + Found 273280 matching files\n",
      "  + Query already compiled (cached) `/tmp/queries/58aff5d36c21bb2057ad1c14a474da647db60818758e0eca168663099d2fe35e.dl`\n",
      "  + Query time: 379.9996s\n",
      "  + Collation time: 2.9589s\n",
      "Total time: 385.1650s\n",
      "  + Had only 244216 allowable files (pre-filter files)\n",
      "  + File select time: 15.3107s\n",
      "  + Found 162790 matching files\n",
      "  + Query already compiled (cached) `/tmp/queries/36e091878426f6c2a0bd57bb41091dfd38efdf97f5b6babdc0c2b7b5035915dd.dl`\n",
      "  + Query time: 128.1906s\n",
      "  + Collation time: 1.3650s\n",
      "Total time: 149.4832s\n",
      "  + Had only 244216 allowable files (pre-filter files)\n",
      "  + File select time: 14.7501s\n",
      "  + Found 9664 matching files\n",
      "  + Query already compiled (cached) `/tmp/queries/bf820d25a84bb257544240f56cc6c2db47428f33435be51dcefccc80cf5eb173.dl`\n",
      "  + Query time: 13.4076s\n",
      "  + Collation time: 0.0865s\n",
      "Total time: 32.6050s\n",
      "  + Had only 244216 allowable files (pre-filter files)\n",
      "  + File select time: 15.2535s\n",
      "  + Found 489 matching files\n",
      "  + Query already compiled (cached) `/tmp/queries/06b37c0badb7134df066e9e1eab521a89b0fd1cba59b2d68592de091baad21d7.dl`\n",
      "  + Query time: 4.4683s\n",
      "  + Collation time: 0.0087s\n",
      "Total time: 24.1273s\n",
      "  + Had only 244216 allowable files (pre-filter files)\n",
      "  + File select time: 15.2434s\n",
      "  + Found 4025 matching files\n",
      "  + Query already compiled (cached) `/tmp/queries/d217cc259f744fde04e3ebef6bdcf6947e2569e47b85b12cfd4727a3b079f34f.dl`\n",
      "  + Query time: 10.3648s\n",
      "  + Collation time: 0.0307s\n",
      "Total time: 30.0362s\n",
      "  + Had only 244216 allowable files (pre-filter files)\n",
      "  + File select time: 15.2033s\n",
      "  + Found 4587 matching files\n",
      "  + Query already compiled (cached) `/tmp/queries/29fb6ab23fa5bd2a3118e80ef1f919d0943bbc931b39773510bd6859aae76989.dl`\n",
      "  + Query time: 12.3742s\n",
      "  + Collation time: 0.0346s\n",
      "Total time: 32.1017s\n",
      "  + Had only 244216 allowable files (pre-filter files)\n",
      "  + File select time: 14.4972s\n",
      "  + Found 3862 matching files\n",
      "  + Query already compiled (cached) `/tmp/queries/344aa453b1fef124adec349f274eb2464791ad6434097f9fc851f969d7e6f0af.dl`\n",
      "  + Query time: 9.3809s\n",
      "  + Collation time: 0.0373s\n",
      "Total time: 28.3568s\n",
      "  + Had only 244216 allowable files (pre-filter files)\n",
      "  + File select time: 14.7523s\n",
      "  + Found 7401 matching files\n",
      "  + Query already compiled (cached) `/tmp/queries/a052de51d1ebece6541cb7b2dbf02178239180773212f74cff0a8e597878533d.dl`\n",
      "  + Query time: 10.7880s\n",
      "  + Collation time: 0.0578s\n",
      "Total time: 29.9944s\n",
      "  + File select time: 15.0372s\n",
      "  + Found 130254 matching files\n",
      "  + Query already compiled (cached) `/tmp/queries/04b8dd28ef05c866799e80f23d26862800ed065e24f3953a1435f64d8544473a.dl`\n",
      "  + Query time: 133.2922s\n",
      "  + Collation time: 1.3810s\n",
      "Total time: 149.7805s\n",
      "  + File select time: 15.1371s\n",
      "  + Found 144309 matching files\n",
      "  + Query already compiled (cached) `/tmp/queries/07e54a967f1b905c73ba741c70ad56d75a479d829e587531d93408746e252129.dl`\n",
      "  + Query time: 167.7157s\n",
      "  + Collation time: 2.3610s\n",
      "Total time: 185.3069s\n",
      "  + Had only 144226 allowable files (pre-filter files)\n",
      "  + File select time: 0.5305s\n",
      "  + Found 144226 matching files\n",
      "  + Query already compiled (cached) `/tmp/queries/cd3f6996c964cab1bb8b2cb7bf0a29d3d37cb7e18f76f3933195d43b034906f8.dl`\n",
      "  + Query time: 116.4530s\n",
      "  + Collation time: 4.9000s\n",
      "Total time: 124.2852s\n",
      "  + Had only 144226 allowable files (pre-filter files)\n",
      "  + File select time: 0.4826s\n",
      "  + Found 144226 matching files\n",
      "  + Query already compiled (cached) `/tmp/queries/b8134c496d3eaf9a2a2169ccbe3bbc0f07dfb83073bbc9867160639a9b382952.dl`\n",
      "  + Query time: 459.4995s\n",
      "  + Collation time: 4.8443s\n",
      "Total time: 467.2623s\n",
      "  + Had only 102057 allowable files (pre-filter files)\n",
      "  + File select time: 0.5008s\n",
      "  + Found 102057 matching files\n",
      "  + Query already compiled (cached) `/tmp/queries/2e64288ad88c52f1e7eb7d763303c9dc9b6b2eb6f60dc7c1ed6addd2e555579a.dl`\n",
      "  + Query time: 459.1376s\n",
      "  + Collation time: 1.4310s\n",
      "Total time: 465.9771s\n",
      "  + Had only 53991 allowable files (pre-filter files)\n",
      "  + File select time: 0.4714s\n",
      "  + Found 53991 matching files\n",
      "  + Query already compiled (cached) `/tmp/queries/23fa679774879062de6905ea4ff0d259116528e45420849fda049ba64af654fb.dl`\n",
      "  + Query time: 249.7914s\n",
      "  + Collation time: 74.1827s\n",
      "Total time: 326.9222s\n"
     ]
    }
   ],
   "source": [
    "flows_df = DSN.flows_reads_to_fits()\n",
    "flows_df.to_csv('/data/gh-2017/results/flows-read-to-fit-2.csv', encoding='utf-8', index=False)"
   ]
  },
  {
   "cell_type": "code",
   "execution_count": 2,
   "metadata": {
    "collapsed": true,
    "execution": {
     "iopub.execute_input": "2021-07-06T19:08:00.233Z",
     "iopub.status.busy": "2021-07-06T19:08:00.199Z",
     "iopub.status.idle": "2021-07-06T19:08:31.315Z",
     "shell.execute_reply": "2021-07-06T19:08:31.279Z"
    },
    "jupyter": {
     "outputs_hidden": false,
     "source_hidden": false
    },
    "nteract": {
     "transient": {
      "deleting": false
     }
    }
   },
   "outputs": [],
   "source": []
  },
  {
   "cell_type": "code",
   "execution_count": 3,
   "metadata": {
    "collapsed": true,
    "execution": {
     "iopub.execute_input": "2021-07-06T19:08:31.398Z",
     "iopub.status.busy": "2021-07-06T19:08:31.362Z",
     "iopub.status.idle": "2021-07-06T19:08:32.686Z",
     "shell.execute_reply": "2021-07-06T19:08:32.646Z"
    },
    "jupyter": {
     "outputs_hidden": false,
     "source_hidden": false
    },
    "nteract": {
     "transient": {
      "deleting": false
     }
    }
   },
   "outputs": [],
   "source": []
  },
  {
   "cell_type": "code",
   "execution_count": 10,
   "metadata": {
    "collapsed": true,
    "execution": {
     "iopub.execute_input": "2021-07-06T19:18:47.632Z",
     "iopub.status.busy": "2021-07-06T19:18:47.599Z",
     "iopub.status.idle": "2021-07-06T19:15:53.974Z",
     "shell.execute_reply": "2021-07-06T19:15:53.933Z"
    },
    "jupyter": {
     "outputs_hidden": false,
     "source_hidden": false
    },
    "nteract": {
     "transient": {
      "deleting": false
     }
    }
   },
   "outputs": [
    {
     "name": "stdout",
     "output_type": "stream",
     "text": [
      "  + File select time: 13.4338s\n",
      "  + Found 69032 matching files\n",
      "  + Profile time: 0.7431s\n",
      "  + Compile time: 15.4840s\n"
     ]
    }
   ],
   "source": [
    "df1 = execute(\n",
    "  call(with_name('drop')) % 'call', \n",
    "  |where| the_first_arg()\n",
    "    |is_| use_of(string() % 'cols'),\n",
    "  compile=True\n",
    ")\n",
    "df2 = execute(\n",
    "  call(with_name('drop')) % 'call', \n",
    "  |where| the_first_arg()\n",
    "    |is_| use_of(\n",
    "      list_(where_every_child_has_type('string')) % 'cols'\n",
    "    )\n",
    "  compile=True\n",
    ")\n",
    "df3 = execute(\n",
    "  call(with_name('drop')) % 'call', \n",
    "  |where| the_first_arg()\n",
    "    |isa| subscript()\n",
    "    |where| the_value_is(\n",
    "      attribute()\n",
    "      |where| the_attribute() \n",
    "        |isa| identifier(with_text('columns'))\n",
    "    )\n",
    "    |and_w| the_subscript_is(use_of(\n",
    "      list_(where_every_child_has_type('integer')) % 'col_ids'\n",
    "    )),\n",
    "  compile=True\n",
    ")\n"
   ]
  },
  {
   "cell_type": "code",
   "execution_count": 4,
   "metadata": {
    "collapsed": true,
    "execution": {
     "iopub.execute_input": "2021-07-08T13:58:57.362Z",
     "iopub.status.busy": "2021-07-08T13:58:57.325Z",
     "iopub.status.idle": "2021-07-08T14:00:52.895Z",
     "shell.execute_reply": "2021-07-08T14:00:52.843Z"
    },
    "jupyter": {
     "outputs_hidden": false,
     "source_hidden": false
    },
    "nteract": {
     "transient": {
      "deleting": false
     }
    }
   },
   "outputs": [
    {
     "name": "stdout",
     "output_type": "stream",
     "text": [
      "  + File select time: 13.7839s\n",
      "  + Found 79548 matching files\n",
      "  + Profile time: 0.4675s\n",
      "  + Compile time: 14.2812s\n",
      "  + Query time: 85.8940s\n",
      "  + Collation time: 0.9760s\n",
      "Total time: 115.4615s\n"
     ]
    },
    {
     "data": {
      "text/html": [
       "<div>\n",
       "<style scoped>\n",
       "    .dataframe tbody tr th:only-of-type {\n",
       "        vertical-align: middle;\n",
       "    }\n",
       "\n",
       "    .dataframe tbody tr th {\n",
       "        vertical-align: top;\n",
       "    }\n",
       "\n",
       "    .dataframe thead th {\n",
       "        text-align: right;\n",
       "    }\n",
       "</style>\n",
       "<table border=\"1\" class=\"dataframe\">\n",
       "  <thead>\n",
       "    <tr style=\"text-align: right;\">\n",
       "      <th></th>\n",
       "      <th>fpath</th>\n",
       "      <th>source_text_arg</th>\n",
       "      <th>start_line_arg</th>\n",
       "      <th>start_col_arg</th>\n",
       "      <th>end_line_arg</th>\n",
       "      <th>end_col_arg</th>\n",
       "      <th>gid_arg</th>\n",
       "      <th>source_text_call</th>\n",
       "      <th>start_line_call</th>\n",
       "      <th>start_col_call</th>\n",
       "      <th>end_line_call</th>\n",
       "      <th>end_col_call</th>\n",
       "      <th>gid_call</th>\n",
       "    </tr>\n",
       "  </thead>\n",
       "  <tbody>\n",
       "    <tr>\n",
       "      <th>0</th>\n",
       "      <td>/cb-target/python/06/31/1174180126dfee4e156a82...</td>\n",
       "      <td>str</td>\n",
       "      <td>53</td>\n",
       "      <td>87</td>\n",
       "      <td>53</td>\n",
       "      <td>90</td>\n",
       "      <td>4191463142264296285</td>\n",
       "      <td>pd.Series(train['question1'].tolist() + train[...</td>\n",
       "      <td>53</td>\n",
       "      <td>11</td>\n",
       "      <td>53</td>\n",
       "      <td>91</td>\n",
       "      <td>5096416365503182228</td>\n",
       "    </tr>\n",
       "    <tr>\n",
       "      <th>1</th>\n",
       "      <td>/cb-target/python/06/31/1174180126dfee4e156a82...</td>\n",
       "      <td>str</td>\n",
       "      <td>54</td>\n",
       "      <td>84</td>\n",
       "      <td>54</td>\n",
       "      <td>87</td>\n",
       "      <td>-5238394647061319845</td>\n",
       "      <td>pd.Series(test['question1'].tolist() + test['q...</td>\n",
       "      <td>54</td>\n",
       "      <td>10</td>\n",
       "      <td>54</td>\n",
       "      <td>88</td>\n",
       "      <td>4205226611058234322</td>\n",
       "    </tr>\n",
       "    <tr>\n",
       "      <th>2</th>\n",
       "      <td>/cb-target/python/c7/c9/1657f1ad6c8bb714050519...</td>\n",
       "      <td>np.uint8</td>\n",
       "      <td>212</td>\n",
       "      <td>29</td>\n",
       "      <td>212</td>\n",
       "      <td>37</td>\n",
       "      <td>-1849017383981044134</td>\n",
       "      <td>X_batch.astype(np.uint8)</td>\n",
       "      <td>212</td>\n",
       "      <td>14</td>\n",
       "      <td>212</td>\n",
       "      <td>38</td>\n",
       "      <td>550118149961555870</td>\n",
       "    </tr>\n",
       "    <tr>\n",
       "      <th>3</th>\n",
       "      <td>/cb-target/python/c7/c9/1657f1ad6c8bb714050519...</td>\n",
       "      <td>np.uint8</td>\n",
       "      <td>212</td>\n",
       "      <td>55</td>\n",
       "      <td>212</td>\n",
       "      <td>63</td>\n",
       "      <td>8992599103791713626</td>\n",
       "      <td>y_batch.astype(np.uint8)</td>\n",
       "      <td>212</td>\n",
       "      <td>40</td>\n",
       "      <td>212</td>\n",
       "      <td>64</td>\n",
       "      <td>5385273982592926609</td>\n",
       "    </tr>\n",
       "    <tr>\n",
       "      <th>4</th>\n",
       "      <td>/cb-target/python/9d/ab/7e881730225f9a3205bd04...</td>\n",
       "      <td>float</td>\n",
       "      <td>66</td>\n",
       "      <td>56</td>\n",
       "      <td>66</td>\n",
       "      <td>61</td>\n",
       "      <td>-6744880828036548225</td>\n",
       "      <td>affair_yrs_married.sum(1).astype(float)</td>\n",
       "      <td>66</td>\n",
       "      <td>23</td>\n",
       "      <td>66</td>\n",
       "      <td>62</td>\n",
       "      <td>-4486830595719308224</td>\n",
       "    </tr>\n",
       "    <tr>\n",
       "      <th>...</th>\n",
       "      <td>...</td>\n",
       "      <td>...</td>\n",
       "      <td>...</td>\n",
       "      <td>...</td>\n",
       "      <td>...</td>\n",
       "      <td>...</td>\n",
       "      <td>...</td>\n",
       "      <td>...</td>\n",
       "      <td>...</td>\n",
       "      <td>...</td>\n",
       "      <td>...</td>\n",
       "      <td>...</td>\n",
       "      <td>...</td>\n",
       "    </tr>\n",
       "    <tr>\n",
       "      <th>233284</th>\n",
       "      <td>/cb-target/python/a3/f6/4de1258a5dbb38fe010ef0...</td>\n",
       "      <td>int</td>\n",
       "      <td>260</td>\n",
       "      <td>75</td>\n",
       "      <td>260</td>\n",
       "      <td>78</td>\n",
       "      <td>5629342229892331681</td>\n",
       "      <td>dataset['Sex'].map( {'female': 1, 'male': 0} )...</td>\n",
       "      <td>260</td>\n",
       "      <td>21</td>\n",
       "      <td>260</td>\n",
       "      <td>79</td>\n",
       "      <td>4577962677949643897</td>\n",
       "    </tr>\n",
       "    <tr>\n",
       "      <th>233285</th>\n",
       "      <td>/cb-target/python/a3/f6/4de1258a5dbb38fe010ef0...</td>\n",
       "      <td>int</td>\n",
       "      <td>303</td>\n",
       "      <td>43</td>\n",
       "      <td>303</td>\n",
       "      <td>46</td>\n",
       "      <td>-7354742359776549189</td>\n",
       "      <td>dataset['Age'].astype(int)</td>\n",
       "      <td>303</td>\n",
       "      <td>21</td>\n",
       "      <td>303</td>\n",
       "      <td>47</td>\n",
       "      <td>-551126151521847281</td>\n",
       "    </tr>\n",
       "    <tr>\n",
       "      <th>233286</th>\n",
       "      <td>/cb-target/python/a3/f6/4de1258a5dbb38fe010ef0...</td>\n",
       "      <td>int</td>\n",
       "      <td>433</td>\n",
       "      <td>85</td>\n",
       "      <td>433</td>\n",
       "      <td>88</td>\n",
       "      <td>-7470714565591863121</td>\n",
       "      <td>dataset['Embarked'].map( {'S': 0, 'C': 1, 'Q':...</td>\n",
       "      <td>433</td>\n",
       "      <td>26</td>\n",
       "      <td>433</td>\n",
       "      <td>89</td>\n",
       "      <td>-4079281738720292316</td>\n",
       "    </tr>\n",
       "    <tr>\n",
       "      <th>233287</th>\n",
       "      <td>/cb-target/python/a3/f6/4de1258a5dbb38fe010ef0...</td>\n",
       "      <td>int</td>\n",
       "      <td>465</td>\n",
       "      <td>45</td>\n",
       "      <td>465</td>\n",
       "      <td>48</td>\n",
       "      <td>-179869217207470555</td>\n",
       "      <td>dataset['Fare'].astype(int)</td>\n",
       "      <td>465</td>\n",
       "      <td>22</td>\n",
       "      <td>465</td>\n",
       "      <td>49</td>\n",
       "      <td>1441489520888547935</td>\n",
       "    </tr>\n",
       "    <tr>\n",
       "      <th>233288</th>\n",
       "      <td>/cb-target/python/80/d2/5f4f070b67ce798d708c63...</td>\n",
       "      <td>int</td>\n",
       "      <td>341</td>\n",
       "      <td>65</td>\n",
       "      <td>341</td>\n",
       "      <td>68</td>\n",
       "      <td>-5807709115542224584</td>\n",
       "      <td>((bikes.hour &gt; 6) &amp; (bikes.hour &lt; 21)).astype(...</td>\n",
       "      <td>341</td>\n",
       "      <td>19</td>\n",
       "      <td>341</td>\n",
       "      <td>69</td>\n",
       "      <td>-7489250512112120221</td>\n",
       "    </tr>\n",
       "  </tbody>\n",
       "</table>\n",
       "<p>233289 rows × 13 columns</p>\n",
       "</div>"
      ],
      "text/plain": [
       "                                                    fpath source_text_arg  \\\n",
       "0       /cb-target/python/06/31/1174180126dfee4e156a82...             str   \n",
       "1       /cb-target/python/06/31/1174180126dfee4e156a82...             str   \n",
       "2       /cb-target/python/c7/c9/1657f1ad6c8bb714050519...        np.uint8   \n",
       "3       /cb-target/python/c7/c9/1657f1ad6c8bb714050519...        np.uint8   \n",
       "4       /cb-target/python/9d/ab/7e881730225f9a3205bd04...           float   \n",
       "...                                                   ...             ...   \n",
       "233284  /cb-target/python/a3/f6/4de1258a5dbb38fe010ef0...             int   \n",
       "233285  /cb-target/python/a3/f6/4de1258a5dbb38fe010ef0...             int   \n",
       "233286  /cb-target/python/a3/f6/4de1258a5dbb38fe010ef0...             int   \n",
       "233287  /cb-target/python/a3/f6/4de1258a5dbb38fe010ef0...             int   \n",
       "233288  /cb-target/python/80/d2/5f4f070b67ce798d708c63...             int   \n",
       "\n",
       "        start_line_arg  start_col_arg  end_line_arg  end_col_arg  \\\n",
       "0                   53             87            53           90   \n",
       "1                   54             84            54           87   \n",
       "2                  212             29           212           37   \n",
       "3                  212             55           212           63   \n",
       "4                   66             56            66           61   \n",
       "...                ...            ...           ...          ...   \n",
       "233284             260             75           260           78   \n",
       "233285             303             43           303           46   \n",
       "233286             433             85           433           88   \n",
       "233287             465             45           465           48   \n",
       "233288             341             65           341           68   \n",
       "\n",
       "                    gid_arg  \\\n",
       "0       4191463142264296285   \n",
       "1      -5238394647061319845   \n",
       "2      -1849017383981044134   \n",
       "3       8992599103791713626   \n",
       "4      -6744880828036548225   \n",
       "...                     ...   \n",
       "233284  5629342229892331681   \n",
       "233285 -7354742359776549189   \n",
       "233286 -7470714565591863121   \n",
       "233287  -179869217207470555   \n",
       "233288 -5807709115542224584   \n",
       "\n",
       "                                         source_text_call  start_line_call  \\\n",
       "0       pd.Series(train['question1'].tolist() + train[...               53   \n",
       "1       pd.Series(test['question1'].tolist() + test['q...               54   \n",
       "2                                X_batch.astype(np.uint8)              212   \n",
       "3                                y_batch.astype(np.uint8)              212   \n",
       "4                 affair_yrs_married.sum(1).astype(float)               66   \n",
       "...                                                   ...              ...   \n",
       "233284  dataset['Sex'].map( {'female': 1, 'male': 0} )...              260   \n",
       "233285                         dataset['Age'].astype(int)              303   \n",
       "233286  dataset['Embarked'].map( {'S': 0, 'C': 1, 'Q':...              433   \n",
       "233287                        dataset['Fare'].astype(int)              465   \n",
       "233288  ((bikes.hour > 6) & (bikes.hour < 21)).astype(...              341   \n",
       "\n",
       "        start_col_call  end_line_call  end_col_call             gid_call  \n",
       "0                   11             53            91  5096416365503182228  \n",
       "1                   10             54            88  4205226611058234322  \n",
       "2                   14            212            38   550118149961555870  \n",
       "3                   40            212            64  5385273982592926609  \n",
       "4                   23             66            62 -4486830595719308224  \n",
       "...                ...            ...           ...                  ...  \n",
       "233284              21            260            79  4577962677949643897  \n",
       "233285              21            303            47  -551126151521847281  \n",
       "233286              26            433            89 -4079281738720292316  \n",
       "233287              22            465            49  1441489520888547935  \n",
       "233288              19            341            69 -7489250512112120221  \n",
       "\n",
       "[233289 rows x 13 columns]"
      ]
     },
     "execution_count": 4,
     "metadata": {},
     "output_type": "execute_result"
    }
   ],
   "source": [
    "tmp = execute(\n",
    "  call(with_name('astype')) % 'call'\n",
    "  |where| the_first_arg()\n",
    "    |is_| anything() % 'arg',\n",
    "  compile=True\n",
    ")\n",
    "\n",
    "tmp"
   ]
  },
  {
   "cell_type": "code",
   "execution_count": 16,
   "metadata": {
    "collapsed": true,
    "execution": {
     "iopub.execute_input": "2021-07-08T16:34:42.075Z",
     "iopub.status.busy": "2021-07-08T16:34:42.036Z",
     "iopub.status.idle": "2021-07-08T16:38:44.245Z",
     "shell.execute_reply": "2021-07-08T16:38:44.180Z"
    },
    "jupyter": {
     "outputs_hidden": false,
     "source_hidden": false
    },
    "nteract": {
     "transient": {
      "deleting": false
     }
    }
   },
   "outputs": [
    {
     "name": "stdout",
     "output_type": "stream",
     "text": [
      "INFO: Pandarallel will run on 20 workers.\n",
      "INFO: Pandarallel will use Memory file system to transfer data between the main process and workers.\n",
      "  + File select time: 14.1967s\n",
      "  + Found 99172 matching files\n",
      "  + Query already compiled (cached) `/tmp/queries/0f23c97763ac4775abed1c1616f8e327647ec57d09863e912edef9aa006c077d.dl`\n",
      "  + Query time: 89.9777s\n",
      "  + Collation time: 1.0551s\n",
      "Total time: 105.2807s\n",
      "  + Had only 97197 allowable files (pre-filter files)\n",
      "  + File select time: 13.5265s\n",
      "  + Found 10576 matching files\n",
      "  + Profile time: 0.8708s\n",
      "  + Compile time: 13.7252s\n",
      "  + Query time: 52.7227s\n",
      "  + Collation time: 0.0639s\n",
      "Total time: 81.9157s\n",
      "  + Had only 97197 allowable files (pre-filter files)\n",
      "  + File select time: 13.5704s\n",
      "  + Found 7696 matching files\n",
      "  + Profile time: 0.8195s\n",
      "  + Compile time: 13.8196s\n",
      "  + Query time: 24.9833s\n",
      "  + Collation time: 0.0271s\n",
      "Total time: 54.2196s\n"
     ]
    }
   ],
   "source": [
    "tmp = DSN.join()"
   ]
  },
  {
   "cell_type": "code",
   "execution_count": 17,
   "metadata": {
    "collapsed": true,
    "execution": {
     "iopub.execute_input": "2021-07-08T16:38:50.535Z",
     "iopub.status.busy": "2021-07-08T16:38:50.497Z",
     "iopub.status.idle": "2021-07-08T16:38:50.631Z",
     "shell.execute_reply": "2021-07-08T16:38:50.597Z"
    },
    "jupyter": {
     "outputs_hidden": false,
     "source_hidden": false
    },
    "nteract": {
     "transient": {
      "deleting": false
     }
    }
   },
   "outputs": [
    {
     "data": {
      "text/plain": [
       "JoinLeft[sort=False]           289905\n",
       "JoinInner[sort=False]            1482\n",
       "JoinOuter[sort=False]            1407\n",
       "JoinRight[sort=False]             285\n",
       "JoinLeft_outer[sort=False]         54\n",
       "JoinOuter[sort=True]               12\n",
       "JoinLeft[sort=True]                 9\n",
       "JoinInner[sort=True]                8\n",
       "JoinFull[sort=False]                5\n",
       "JoinLeftsemi[sort=False]            3\n",
       "JoinRight_outer[sort=False]         1\n",
       "JoinLeft_semi[sort=False]           1\n",
       "JoinFull_outer[sort=False]          1\n",
       "Name: pretty, dtype: int64"
      ]
     },
     "execution_count": 17,
     "metadata": {},
     "output_type": "execute_result"
    }
   ],
   "source": [
    "tmp.pretty.value_counts().head(30)"
   ]
  },
  {
   "cell_type": "code",
   "execution_count": 19,
   "metadata": {
    "collapsed": true,
    "execution": {
     "iopub.execute_input": "2021-07-08T16:39:42.121Z",
     "iopub.status.busy": "2021-07-08T16:39:42.084Z",
     "iopub.status.idle": "2021-07-08T16:39:42.352Z",
     "shell.execute_reply": "2021-07-08T16:39:42.456Z"
    },
    "jupyter": {
     "outputs_hidden": false,
     "source_hidden": false
    },
    "nteract": {
     "transient": {
      "deleting": false
     }
    }
   },
   "outputs": [
    {
     "data": {
      "application/code-book-matches+json": {
       "lang": "python",
       "results": [
        {
         "$match": [
          {
           "e_col": 95,
           "e_line": 429,
           "fpath": "/cb-target/python/07/f6/d93d8d9f5238620bad8a205a2804727d4b5de84bbe25333db7ab983a0485.py",
           "gid": 5629978623474751000,
           "s_col": 13,
           "s_line": 429,
           "text": "predictors.join(temp_downloads,[\"id\",\"name\",\"category\",\"device\"],how='left_outer')"
          },
          {
           "e_col": 96,
           "e_line": 467,
           "fpath": "/cb-target/python/07/f6/d93d8d9f5238620bad8a205a2804727d4b5de84bbe25333db7ab983a0485.py",
           "gid": 4867059530792009000,
           "s_col": 13,
           "s_line": 467,
           "text": "predictors.join(temp_revenues,[\"id\", \"name\", \"category\",\"device\"],how='left_outer')"
          },
          {
           "e_col": 90,
           "e_line": 468,
           "fpath": "/cb-target/python/07/f6/d93d8d9f5238620bad8a205a2804727d4b5de84bbe25333db7ab983a0485.py",
           "gid": 2821742197424655400,
           "s_col": 13,
           "s_line": 468,
           "text": "predictors.join(temp_m1,[\"id\", \"name\", \"category\",\"device\"],how='left_outer')"
          },
          {
           "e_col": 90,
           "e_line": 469,
           "fpath": "/cb-target/python/07/f6/d93d8d9f5238620bad8a205a2804727d4b5de84bbe25333db7ab983a0485.py",
           "gid": -6106273267067992000,
           "s_col": 13,
           "s_line": 469,
           "text": "predictors.join(temp_m2,[\"id\", \"name\", \"category\",\"device\"],how='left_outer')"
          },
          {
           "e_col": 90,
           "e_line": 470,
           "fpath": "/cb-target/python/07/f6/d93d8d9f5238620bad8a205a2804727d4b5de84bbe25333db7ab983a0485.py",
           "gid": 8493282480626238000,
           "s_col": 13,
           "s_line": 470,
           "text": "predictors.join(temp_m3,[\"id\", \"name\", \"category\",\"device\"],how='left_outer')"
          },
          {
           "e_col": 90,
           "e_line": 471,
           "fpath": "/cb-target/python/07/f6/d93d8d9f5238620bad8a205a2804727d4b5de84bbe25333db7ab983a0485.py",
           "gid": -3058543591847966000,
           "s_col": 13,
           "s_line": 471,
           "text": "predictors.join(temp_m4,[\"id\", \"name\", \"category\",\"device\"],how='left_outer')"
          },
          {
           "e_col": 92,
           "e_line": 472,
           "fpath": "/cb-target/python/07/f6/d93d8d9f5238620bad8a205a2804727d4b5de84bbe25333db7ab983a0485.py",
           "gid": -9104065554272015000,
           "s_col": 13,
           "s_line": 472,
           "text": "predictors.join(avg_score,[\"id\", \"name\", \"category\",\"device\"],how='left_outer')"
          },
          {
           "e_col": 77,
           "e_line": 482,
           "fpath": "/cb-target/python/07/f6/d93d8d9f5238620bad8a205a2804727d4b5de84bbe25333db7ab983a0485.py",
           "gid": 2708762836565154300,
           "s_col": 13,
           "s_line": 482,
           "text": "predictors.join(prev_downloads,[\"id\",\"device\"],how='left_outer')"
          },
          {
           "e_col": 68,
           "e_line": 755,
           "fpath": "/cb-target/python/07/f6/d93d8d9f5238620bad8a205a2804727d4b5de84bbe25333db7ab983a0485.py",
           "gid": 4342263212284031000,
           "s_col": 13,
           "s_line": 755,
           "text": "predictors.join(rating_country,[\"id\"],how='left_outer')"
          },
          {
           "e_col": 81,
           "e_line": 103,
           "fpath": "/cb-target/python/60/cb/a682f62c37b4c370e2c01fe9212bf90323be1e6b597f8b37f2d12212d420.py",
           "gid": 4277244989760320500,
           "s_col": 9,
           "s_line": 103,
           "text": "time_diff.join(trip_dir, time_diff.id == trip_dir.id_, how='left_outer')"
          },
          {
           "e_col": 31,
           "e_line": 97,
           "fpath": "/cb-target/python/61/5f/fec5241144830280cc8b12c822b788193266e27ea7845e8668b02f6aabf5.py",
           "gid": -184132560586899550,
           "s_col": 6,
           "s_line": 95,
           "text": "df.join(users_with_few_events,\\n              F.col(\"entityId\")==F.col(\"user_with_few_events\"),\\n              how=\"left_outer\")"
          },
          {
           "e_col": 137,
           "e_line": 107,
           "fpath": "/cb-target/python/7a/c9/cc55ce8568a20957b80b780b292b58b5ee1fd2304520abb8eba29656e9bf.py",
           "gid": -2509711621964986000,
           "s_col": 17,
           "s_line": 107,
           "text": "movie_ids_with_avg_ratings_df.join(movies_df, movies_df.ID == movie_ids_with_avg_ratings_df.movieId, how = 'left_outer')"
          },
          {
           "e_col": 176,
           "e_line": 464,
           "fpath": "/cb-target/python/7a/c9/cc55ce8568a20957b80b780b292b58b5ee1fd2304520abb8eba29656e9bf.py",
           "gid": -8682774686549424000,
           "s_col": 27,
           "s_line": 464,
           "text": "predicted_ratings_df.join(movie_names_with_avg_ratings_df, predicted_ratings_df.movieId == movie_ids_with_avg_ratings_df.movieId, how = 'left_outer')"
          },
          {
           "e_col": 93,
           "e_line": 425,
           "fpath": "/cb-target/python/7e/22/3a5bc1332edabf04995a499e4b170e97d174eef5943d6d7fbfb3ef803b08.py",
           "gid": 582660598451306200,
           "s_col": 0,
           "s_line": 425,
           "text": "stat_airport_traffic.join(airports_df, col('src_airport') == col('code'), how = 'left_outer')"
          },
          {
           "e_col": 108,
           "e_line": 431,
           "fpath": "/cb-target/python/7e/22/3a5bc1332edabf04995a499e4b170e97d174eef5943d6d7fbfb3ef803b08.py",
           "gid": -8637344530390297000,
           "s_col": 15,
           "s_line": 431,
           "text": "stat_airport_traffic.join(airports_df, col('src_airport') == col('code'), how = 'left_outer')"
          },
          {
           "e_col": 110,
           "e_line": 492,
           "fpath": "/cb-target/python/7e/22/3a5bc1332edabf04995a499e4b170e97d174eef5943d6d7fbfb3ef803b08.py",
           "gid": -5885899842678004000,
           "s_col": 30,
           "s_line": 488,
           "text": "most_connected_airports\\\\n                                    .join(airports_df, col('src_airport') == col('code'), how = 'left_outer')\\\\n                                    .select('src_airport', 'dest_airport', 'lon', 'lat', 'count')\\\\n                                    .withColumnRenamed('lon', 'src_lon').withColumnRenamed('lat', 'src_lat')\\\\n                                    .join(airports_df, col('dest_airport') == col('code'), how = 'left_outer')"
          },
          {
           "e_col": 109,
           "e_line": 489,
           "fpath": "/cb-target/python/7e/22/3a5bc1332edabf04995a499e4b170e97d174eef5943d6d7fbfb3ef803b08.py",
           "gid": -4483916088438510600,
           "s_col": 30,
           "s_line": 488,
           "text": "most_connected_airports\\\\n                                    .join(airports_df, col('src_airport') == col('code'), how = 'left_outer')"
          },
          {
           "e_col": 81,
           "e_line": 101,
           "fpath": "/cb-target/python/86/a3/6671bd791f7c617aad0bdd70ededfb9ba695912a071e0be1252d0502db94.py",
           "gid": -4388067527020278300,
           "s_col": 9,
           "s_line": 101,
           "text": "time_diff.join(trip_dir, time_diff.id == trip_dir.id_, how='left_outer')"
          },
          {
           "e_col": 137,
           "e_line": 106,
           "fpath": "/cb-target/python/8d/8f/3d0ea2c18629d924ef97bf3fb042859605938fdf12799c08aab9bf3257c0.py",
           "gid": 5706446207652352000,
           "s_col": 17,
           "s_line": 106,
           "text": "movie_ids_with_avg_ratings_df.join(movies_df, movies_df.ID == movie_ids_with_avg_ratings_df.movieId, how = 'left_outer')"
          },
          {
           "e_col": 176,
           "e_line": 443,
           "fpath": "/cb-target/python/8d/8f/3d0ea2c18629d924ef97bf3fb042859605938fdf12799c08aab9bf3257c0.py",
           "gid": 3139664337337468400,
           "s_col": 27,
           "s_line": 443,
           "text": "predicted_ratings_df.join(movie_names_with_avg_ratings_df, predicted_ratings_df.movieId == movie_ids_with_avg_ratings_df.movieId, how = 'left_outer')"
          },
          {
           "e_col": 135,
           "e_line": 114,
           "fpath": "/cb-target/python/9b/37/052a2a0c2396c8395fc377466cb54a8646e3f65bd86c717d9aae19dec205.py",
           "gid": 2667250279570972700,
           "s_col": 8,
           "s_line": 114,
           "text": "traDF.join(pm25df, (traDF.date==pm25df.date) & (traDF.location==pm25df.location) & (traDF.hr == pm25df.hr_1), how='left_outer')"
          },
          {
           "e_col": 135,
           "e_line": 118,
           "fpath": "/cb-target/python/9b/37/052a2a0c2396c8395fc377466cb54a8646e3f65bd86c717d9aae19dec205.py",
           "gid": -4065719724358458000,
           "s_col": 8,
           "s_line": 118,
           "text": "traDF.join(pm25df, (traDF.date==pm25df.date) & (traDF.location==pm25df.location) & (traDF.hr == pm25df.hr_2), how='left_outer')"
          },
          {
           "e_col": 135,
           "e_line": 123,
           "fpath": "/cb-target/python/9b/37/052a2a0c2396c8395fc377466cb54a8646e3f65bd86c717d9aae19dec205.py",
           "gid": 4268490057834831400,
           "s_col": 8,
           "s_line": 123,
           "text": "traDF.join(pm25df, (traDF.date==pm25df.date) & (traDF.location==pm25df.location) & (traDF.hr == pm25df.hr_3), how='left_outer')"
          },
          {
           "e_col": 135,
           "e_line": 128,
           "fpath": "/cb-target/python/9b/37/052a2a0c2396c8395fc377466cb54a8646e3f65bd86c717d9aae19dec205.py",
           "gid": 5556641463712554000,
           "s_col": 8,
           "s_line": 128,
           "text": "traDF.join(pm25df, (traDF.date==pm25df.date) & (traDF.location==pm25df.location) & (traDF.hr == pm25df.hr_4), how='left_outer')"
          },
          {
           "e_col": 135,
           "e_line": 135,
           "fpath": "/cb-target/python/9b/37/052a2a0c2396c8395fc377466cb54a8646e3f65bd86c717d9aae19dec205.py",
           "gid": -6014092077077328000,
           "s_col": 8,
           "s_line": 135,
           "text": "traDF.join(pm10df, (traDF.date==pm10df.date) & (traDF.location==pm10df.location) & (traDF.hr == pm10df.hr_1), how='left_outer')"
          },
          {
           "e_col": 135,
           "e_line": 140,
           "fpath": "/cb-target/python/9b/37/052a2a0c2396c8395fc377466cb54a8646e3f65bd86c717d9aae19dec205.py",
           "gid": 5630685845675260000,
           "s_col": 8,
           "s_line": 140,
           "text": "traDF.join(pm10df, (traDF.date==pm10df.date) & (traDF.location==pm10df.location) & (traDF.hr == pm10df.hr_2), how='left_outer')"
          },
          {
           "e_col": 135,
           "e_line": 146,
           "fpath": "/cb-target/python/9b/37/052a2a0c2396c8395fc377466cb54a8646e3f65bd86c717d9aae19dec205.py",
           "gid": -5213330143625385000,
           "s_col": 8,
           "s_line": 146,
           "text": "traDF.join(pm10df, (traDF.date==pm10df.date) & (traDF.location==pm10df.location) & (traDF.hr == pm10df.hr_3), how='left_outer')"
          },
          {
           "e_col": 135,
           "e_line": 152,
           "fpath": "/cb-target/python/9b/37/052a2a0c2396c8395fc377466cb54a8646e3f65bd86c717d9aae19dec205.py",
           "gid": -8929978255866350000,
           "s_col": 8,
           "s_line": 152,
           "text": "traDF.join(pm10df, (traDF.date==pm10df.date) & (traDF.location==pm10df.location) & (traDF.hr == pm10df.hr_4), how='left_outer')"
          },
          {
           "e_col": 131,
           "e_line": 160,
           "fpath": "/cb-target/python/9b/37/052a2a0c2396c8395fc377466cb54a8646e3f65bd86c717d9aae19dec205.py",
           "gid": 8277562123711240000,
           "s_col": 8,
           "s_line": 160,
           "text": "traDF.join(AMBdf, (traDF.date==AMBdf.date) & (traDF.location==AMBdf.location) & (traDF.hr == AMBdf.hr_1), how='left_outer')"
          },
          {
           "e_col": 131,
           "e_line": 166,
           "fpath": "/cb-target/python/9b/37/052a2a0c2396c8395fc377466cb54a8646e3f65bd86c717d9aae19dec205.py",
           "gid": 5677489678580050000,
           "s_col": 8,
           "s_line": 166,
           "text": "traDF.join(AMBdf, (traDF.date==AMBdf.date) & (traDF.location==AMBdf.location) & (traDF.hr == AMBdf.hr_2), how='left_outer')"
          },
          {
           "e_col": 131,
           "e_line": 173,
           "fpath": "/cb-target/python/9b/37/052a2a0c2396c8395fc377466cb54a8646e3f65bd86c717d9aae19dec205.py",
           "gid": 5235884261252186000,
           "s_col": 8,
           "s_line": 173,
           "text": "traDF.join(AMBdf, (traDF.date==AMBdf.date) & (traDF.location==AMBdf.location) & (traDF.hr == AMBdf.hr_3), how='left_outer')"
          },
          {
           "e_col": 131,
           "e_line": 180,
           "fpath": "/cb-target/python/9b/37/052a2a0c2396c8395fc377466cb54a8646e3f65bd86c717d9aae19dec205.py",
           "gid": -7594128695093692000,
           "s_col": 8,
           "s_line": 180,
           "text": "traDF.join(AMBdf, (traDF.date==AMBdf.date) & (traDF.location==AMBdf.location) & (traDF.hr == AMBdf.hr_4), how='left_outer')"
          },
          {
           "e_col": 137,
           "e_line": 106,
           "fpath": "/cb-target/python/9d/a5/6db96093b319e8ea935927763b9b986cd758be93d6c439f9915be7f0fd5b.py",
           "gid": 9025433963807091000,
           "s_col": 17,
           "s_line": 106,
           "text": "movie_ids_with_avg_ratings_df.join(movies_df, movies_df.ID == movie_ids_with_avg_ratings_df.movieId, how = 'left_outer')"
          },
          {
           "e_col": 143,
           "e_line": 445,
           "fpath": "/cb-target/python/9d/a5/6db96093b319e8ea935927763b9b986cd758be93d6c439f9915be7f0fd5b.py",
           "gid": 4868649844975263000,
           "s_col": 27,
           "s_line": 444,
           "text": "predicted_ratings_df.join(movie_names_with_avg_ratings_df,\\n                                                     predicted_ratings_df.movieId == movie_ids_with_avg_ratings_df.movieId, how = 'left_outer')"
          },
          {
           "e_col": 90,
           "e_line": 328,
           "fpath": "/cb-target/python/a1/77/0260d6a7bade04936c92f69df269116a89ee93b32814d55abac409cfd160.py",
           "gid": -1162936631310620200,
           "s_col": 33,
           "s_line": 327,
           "text": "ddf_offers_hist.join(ddf_agg_customer_category,\\n                                                     on=['customer_id'], how='left_outer')"
          },
          {
           "e_col": 91,
           "e_line": 350,
           "fpath": "/cb-target/python/a1/77/0260d6a7bade04936c92f69df269116a89ee93b32814d55abac409cfd160.py",
           "gid": -5684081299071178000,
           "s_col": 38,
           "s_line": 349,
           "text": "ddf_offers_subm.join(ddf_agg_customer_category,\\n                                                      on=['customer_id'], how='left_outer')"
          },
          {
           "e_col": 109,
           "e_line": 127,
           "fpath": "/cb-target/python/a9/7e/dad317bf4de891ab412492acfe81a9c0ea4f1f8f447a1f5e38f65832a172.py",
           "gid": 3746958371309629000,
           "s_col": 19,
           "s_line": 127,
           "text": "labeled_json_final.join(stock_return_cleaned, [\"TimeStamp\", \"Ticker\"], how = \"left_outer\")"
          },
          {
           "e_col": 108,
           "e_line": 187,
           "fpath": "/cb-target/python/be/1a/1dc60acb71eebbd574a4117b39ed6cce17bea2079e400bbce61cbc142a36.py",
           "gid": 4950069956790756000,
           "s_col": 24,
           "s_line": 186,
           "text": "ddf_trans_agg_customer_brand.join(ddf_trans_agg_customer_category,\\n                                                           on=['customer_id', 'category'], how='left_outer')"
          },
          {
           "e_col": 101,
           "e_line": 263,
           "fpath": "/cb-target/python/be/1a/1dc60acb71eebbd574a4117b39ed6cce17bea2079e400bbce61cbc142a36.py",
           "gid": -6227344098964044000,
           "s_col": 25,
           "s_line": 262,
           "text": "ddf_offers_all.join(ddf_trans_agg_customer_brand,\\n                                             on=['customer_id','brand','category'], how='left_outer')"
          },
          {
           "e_col": 101,
           "e_line": 270,
           "fpath": "/cb-target/python/be/1a/1dc60acb71eebbd574a4117b39ed6cce17bea2079e400bbce61cbc142a36.py",
           "gid": -8778950942566338000,
           "s_col": 25,
           "s_line": 269,
           "text": "ddf_offers__trans_aggs.join(ddf_trans_agg_customer_category,\\n                                                     on=['customer_id','category'], how='left_outer')"
          },
          {
           "e_col": 101,
           "e_line": 296,
           "fpath": "/cb-target/python/be/1a/1dc60acb71eebbd574a4117b39ed6cce17bea2079e400bbce61cbc142a36.py",
           "gid": 5959940938390429000,
           "s_col": 36,
           "s_line": 295,
           "text": "ddf_offers_all_submission.join(ddf_trans_agg_customer_brand,\\n                                             on=['customer_id','brand','category'], how='left_outer')"
          },
          {
           "e_col": 101,
           "e_line": 303,
           "fpath": "/cb-target/python/be/1a/1dc60acb71eebbd574a4117b39ed6cce17bea2079e400bbce61cbc142a36.py",
           "gid": 7459305214208266000,
           "s_col": 36,
           "s_line": 302,
           "text": "ddf_offers_submission__trans_aggs.join(ddf_trans_agg_customer_category,\\n                                                     on=['customer_id','category'], how='left_outer')"
          },
          {
           "e_col": 137,
           "e_line": 106,
           "fpath": "/cb-target/python/c1/cd/d3502b875f99005e438f162133482c0cf3cafcc4f1097642f7d28b399b0e.py",
           "gid": -5456325247840390000,
           "s_col": 17,
           "s_line": 106,
           "text": "movie_ids_with_avg_ratings_df.join(movies_df, movies_df.ID == movie_ids_with_avg_ratings_df.movieId, how = 'left_outer')"
          },
          {
           "e_col": 137,
           "e_line": 106,
           "fpath": "/cb-target/python/cf/8a/a93d18232301a21612bf2de3d82d0914eff500641dbb22b62a5764595d06.py",
           "gid": 5111097434323148000,
           "s_col": 17,
           "s_line": 106,
           "text": "movie_ids_with_avg_ratings_df.join(movies_df, movies_df.ID == movie_ids_with_avg_ratings_df.movieId, how = 'left_outer')"
          },
          {
           "e_col": 143,
           "e_line": 452,
           "fpath": "/cb-target/python/cf/8a/a93d18232301a21612bf2de3d82d0914eff500641dbb22b62a5764595d06.py",
           "gid": 2772405341735901000,
           "s_col": 27,
           "s_line": 451,
           "text": "predicted_ratings_df.join(movie_names_with_avg_ratings_df,\\n                                                     predicted_ratings_df.movieId == movie_ids_with_avg_ratings_df.movieId, how = 'left_outer')"
          },
          {
           "e_col": 142,
           "e_line": 450,
           "fpath": "/cb-target/python/da/bf/1d59f91f41251ecaaadef02b81b9789b0c449a828d7ab8f38eed97b12ab7.py",
           "gid": -2341385283188128300,
           "s_col": 27,
           "s_line": 449,
           "text": "predicted_ratings_df.join(movie_names_with_avg_ratings_df,\\n                                                    predicted_ratings_df.movieId == movie_ids_with_avg_ratings_df.movieId, how = 'left_outer')"
          },
          {
           "e_col": 49,
           "e_line": 497,
           "fpath": "/cb-target/python/db/67/87b69f1bc7bed589f515d1375f3525ffd1123c3ae5c88efca75f64d95d2c.py",
           "gid": 5416403809919587000,
           "s_col": 3,
           "s_line": 496,
           "text": "total_req_per_day_df\\n   .join(daily_hosts_df, 'day', how='left_outer')"
          },
          {
           "e_col": 122,
           "e_line": 606,
           "fpath": "/cb-target/python/db/67/87b69f1bc7bed589f515d1375f3525ffd1123c3ae5c88efca75f64d95d2c.py",
           "gid": -6815577096544201000,
           "s_col": 22,
           "s_line": 606,
           "text": "not_found_paths_df.join(not_found_df.select(not_found_df.path).distinct(), 'path', how='left_outer')"
          },
          {
           "e_col": 90,
           "e_line": 354,
           "fpath": "/cb-target/python/e1/c5/5831c87c33ff359dfb9d63bd801e60c92eea3e06774a24a9100a99f16ffd.py",
           "gid": 8227510913879499000,
           "s_col": 31,
           "s_line": 353,
           "text": "ddf_offers_hist.join(ddf_onehot_brand_fs1,\\n                                                     on=['customer_id'], how='left_outer')"
          },
          {
           "e_col": 90,
           "e_line": 384,
           "fpath": "/cb-target/python/e1/c5/5831c87c33ff359dfb9d63bd801e60c92eea3e06774a24a9100a99f16ffd.py",
           "gid": 834842889553271000,
           "s_col": 36,
           "s_line": 383,
           "text": "ddf_offers_subm.join(ddf_onehot_brand_fs1,\\n                                                     on=['customer_id'], how='left_outer')"
          },
          {
           "e_col": 119,
           "e_line": 192,
           "fpath": "/cb-target/python/e1/d1/89fad806f472d35350b7f48122ead8723239d19c348ec1c4b84fc3346613.py",
           "gid": -7881984230721200000,
           "s_col": 19,
           "s_line": 192,
           "text": "labeled_sharethis_json_final.join(stock_return_cleaned, [\"TimeStamp\", \"Ticker\"], how = \"left_outer\")"
          },
          {
           "e_col": 90,
           "e_line": 749,
           "fpath": "/cb-target/python/e6/32/bc89ee74a6524384238d9ec88f64594b774cf14d603945a612c606fe5130.py",
           "gid": -6660006986504487000,
           "s_col": 33,
           "s_line": 748,
           "text": "ddf_offers_hist.join(ddf_agg_customer_category,\\n                                                     on=['customer_id'], how='left_outer')"
          },
          {
           "e_col": 91,
           "e_line": 771,
           "fpath": "/cb-target/python/e6/32/bc89ee74a6524384238d9ec88f64594b774cf14d603945a612c606fe5130.py",
           "gid": -5471474340788127000,
           "s_col": 38,
           "s_line": 770,
           "text": "ddf_offers_subm.join(ddf_agg_customer_category,\\n                                                      on=['customer_id'], how='left_outer')"
          },
          {
           "e_col": 76,
           "e_line": 334,
           "fpath": "/cb-target/python/f9/60/b7ca3c6d88854b91750e65c352aefce83851f6d5a11fe7ef93b4cdd01ca3.py",
           "gid": 1263732318686500000,
           "s_col": 0,
           "s_line": 334,
           "text": "rankBiz.join(bizID_int_bizName_subset, on = 'bizID_int', how = 'left_outer')"
          }
         ]
        }
       ]
      }
     },
     "metadata": {},
     "output_type": "display_data"
    }
   ],
   "source": [
    "visualize(tmp[tmp.pretty.str.contains('Left_outer')], 'call')"
   ]
  },
  {
   "cell_type": "code",
   "execution_count": null,
   "metadata": {
    "collapsed": true,
    "jupyter": {
     "outputs_hidden": false,
     "source_hidden": false
    },
    "nteract": {
     "transient": {
      "deleting": false
     }
    }
   },
   "outputs": [],
   "source": []
  }
 ],
 "metadata": {
  "kernel_info": {
   "name": "python3"
  },
  "kernelspec": {
   "display_name": "Python 3",
   "language": "python",
   "name": "python3"
  },
  "language_info": {
   "codemirror_mode": {
    "name": "ipython",
    "version": 3
   },
   "file_extension": ".py",
   "mimetype": "text/x-python",
   "name": "python",
   "nbconvert_exporter": "python",
   "pygments_lexer": "ipython3",
   "version": "3.9.5"
  },
  "nteract": {
   "version": "nteract-on-jupyter@2.14.1"
  }
 },
 "nbformat": 4,
 "nbformat_minor": 2
}
