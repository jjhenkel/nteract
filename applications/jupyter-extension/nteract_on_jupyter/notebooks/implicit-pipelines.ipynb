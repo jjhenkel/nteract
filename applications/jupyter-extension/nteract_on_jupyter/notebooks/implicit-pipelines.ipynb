{
 "cells": [
  {
   "cell_type": "code",
   "execution_count": 1,
   "metadata": {
    "execution": {
     "iopub.execute_input": "2021-06-24T20:06:10.668Z",
     "iopub.status.busy": "2021-06-24T20:06:10.653Z",
     "iopub.status.idle": "2021-06-24T20:06:10.944Z",
     "shell.execute_reply": "2021-06-24T20:06:10.938Z"
    }
   },
   "outputs": [],
   "source": [
    "%load_ext autoreload\n",
    "%autoreload 2\n",
    "\n",
    "import pandas as pd\n",
    "import json\n",
    "\n",
    "COMPILE=False"
   ]
  },
  {
   "cell_type": "code",
   "execution_count": 2,
   "metadata": {
    "collapsed": true,
    "execution": {
     "iopub.execute_input": "2021-06-24T20:06:11.024Z",
     "iopub.status.busy": "2021-06-24T20:06:10.959Z",
     "iopub.status.idle": "2021-06-24T20:06:21.733Z",
     "shell.execute_reply": "2021-06-24T20:06:21.744Z"
    },
    "jupyter": {
     "outputs_hidden": false,
     "source_hidden": false
    },
    "nteract": {
     "transient": {
      "deleting": false
     }
    }
   },
   "outputs": [
    {
     "name": "stdout",
     "output_type": "stream",
     "text": [
      "  + File select time: 0.3378s\n",
      "  + Query time: 5.4525s\n",
      "  + Collation time: 0.0071s\n",
      "Total time: 5.7989s\n",
      "  + File select time: 0.3041s\n",
      "  + Query time: 0.5521s\n",
      "  + Collation time: 0.0042s\n",
      "Total time: 0.8624s\n",
      "  + File select time: 0.2626s\n",
      "  + Query time: 0.4806s\n",
      "  + Collation time: 0.0048s\n",
      "Total time: 0.7495s\n",
      "  + File select time: 0.2842s\n",
      "  + Query time: 0.4843s\n",
      "  + Collation time: 0.0052s\n",
      "Total time: 0.7751s\n",
      "  + File select time: 0.3033s\n",
      "  + Query time: 0.5086s\n",
      "  + Collation time: 0.0042s\n",
      "Total time: 0.8175s\n",
      "  + File select time: 0.2670s\n",
      "  + Query time: 0.4924s\n",
      "  + Collation time: 0.0037s\n",
      "Total time: 0.7646s\n",
      "  + File select time: 0.2690s\n",
      "  + Query time: 0.7396s\n",
      "  + Collation time: 0.0046s\n",
      "Total time: 1.0144s\n"
     ]
    }
   ],
   "source": [
    "from codebook.python import *\n",
    "\n",
    "qualified_call = lambda i, c: execute(\n",
    "  call(with_name(c)) % 'call'\n",
    "  |where| call_target()\n",
    "    |isa| use_of(imports(with_name(i))),\n",
    "  compile=COMPILE\n",
    ").assign(call_type=c, import_type=i) \n",
    "\n",
    "# query for various pandas.read_* methods\n",
    "pd_read_csv = qualified_call('pandas', 'read_csv')\n",
    "pd_read_excel = qualified_call('pandas', 'read_excel')\n",
    "pd_read_fwf = qualified_call('pandas', 'read_fwf')\n",
    "pd_read_json = qualified_call('pandas', 'read_json')\n",
    "pd_read_pickle = qualified_call('pandas', 'read_pickle')\n",
    "pd_read_sql = qualified_call('pandas', 'read_sql')\n",
    "pd_read_table = qualified_call('pandas', 'read_table')\n",
    "\n",
    "# join them all into one big dataframe\n",
    "pd_reads = pd.concat([\n",
    "  pd_read_csv, pd_read_excel, pd_read_fwf,\n",
    "  pd_read_json, pd_read_pickle, pd_read_sql,\n",
    "  pd_read_table\n",
    "])"
   ]
  },
  {
   "cell_type": "code",
   "execution_count": 3,
   "metadata": {
    "collapsed": true,
    "execution": {
     "iopub.execute_input": "2021-06-24T20:06:21.778Z",
     "iopub.status.busy": "2021-06-24T20:06:21.750Z",
     "iopub.status.idle": "2021-06-24T20:06:37.719Z",
     "shell.execute_reply": "2021-06-24T20:06:37.749Z"
    },
    "jupyter": {
     "outputs_hidden": false,
     "source_hidden": false
    },
    "nteract": {
     "transient": {
      "deleting": false
     }
    }
   },
   "outputs": [
    {
     "name": "stdout",
     "output_type": "stream",
     "text": [
      "  + File select time: 0.0004s\n",
      "  + Query time: 13.0588s\n",
      "  + Collation time: 0.0273s\n",
      "Total time: 13.0876s\n",
      "  + File select time: 0.0003s\n",
      "  + Query time: 2.6840s\n",
      "  + Collation time: 0.0057s\n",
      "Total time: 2.6914s\n"
     ]
    }
   ],
   "source": [
    "from codebook.python import *\n",
    "\n",
    "# captures: `df['column']`\n",
    "# and `col = 'column' ; df[col]`\n",
    "single_col_projections = (\n",
    "  subscript()\n",
    "  |where| the_only_subscript_is(use_of(string() % 'columns'))\n",
    "  |and_w| the_value_is(anything() % 'target')\n",
    ")\n",
    "\n",
    "# captures: `df[['a', 'b', 'c']]`\n",
    "# and `my_list = [ 'a', 'b', 'c' ] ; df[my_list]`\n",
    "multi_col_projections = (\n",
    "  subscript() \n",
    "  |where| the_only_subscript_is(use_of(\n",
    "      list_(where_every_child_has_type('string')) % 'columns'\n",
    "  ))\n",
    "  |and_w| the_value_is(anything() % 'target')\n",
    ")\n",
    "\n",
    "projections = pd.concat([\n",
    "  execute(single_col_projections, compile=COMPILE),\n",
    "  execute(multi_col_projections, compile=COMPILE)\n",
    "])\n",
    "\n",
    "# Extract the actual \"columns\" \n",
    "projections['columns'] = Utils.source_list_to_py_list(\n",
    "  projections, 'source_text_columns'\n",
    ")"
   ]
  },
  {
   "cell_type": "code",
   "execution_count": 2,
   "metadata": {
    "collapsed": true,
    "execution": {
     "iopub.execute_input": "2021-06-24T18:31:44.152Z",
     "iopub.status.busy": "2021-06-24T18:31:44.099Z",
     "iopub.status.idle": "2021-06-24T18:37:27.610Z",
     "shell.execute_reply": "2021-06-24T18:37:27.594Z"
    },
    "jupyter": {
     "outputs_hidden": false,
     "source_hidden": false
    },
    "nteract": {
     "transient": {
      "deleting": false
     }
    }
   },
   "outputs": [
    {
     "name": "stdout",
     "output_type": "stream",
     "text": [
      "  + File select time: 0.0004s\n",
      "  + Compile time: 17.8010s\n",
      "  + Query time: 76.6141s\n",
      "  + Collation time: 0.0055s\n",
      "Total time: 94.4240s\n",
      "  + File select time: 0.0004s\n",
      "  + Compile time: 18.0743s\n",
      "  + Query time: 230.8967s\n",
      "  + Collation time: 0.0049s\n",
      "Total time: 248.9781s\n"
     ]
    }
   ],
   "source": [
    "from codebook.python import *\n",
    "\n",
    "# matches: `target[\"field\"]`\n",
    "as_subscript = (\n",
    "  subscript() \n",
    "  |where| the_value_is(\n",
    "    anything(same_text_as('target'))\n",
    "  )\n",
    "  |and_w| the_subscript_is(\n",
    "    string() % select_as('text', 'field')\n",
    "  )\n",
    ")\n",
    "\n",
    "# matches: `target.field`\n",
    "as_attribute = (\n",
    "  attribute()\n",
    "  |where| the_object_is(\n",
    "    anything(same_text_as('target'))\n",
    "  )\n",
    "  |and_w| the_attribute_is(\n",
    "    identifier() % select_as('text', 'field')\n",
    "  )\n",
    ")\n",
    "\n",
    "# captures: `target[{inner} <cmp> rhs]`\n",
    "match_single_filter = lambda inner: (\n",
    "  subscript() \n",
    "  |where| the_only_subscript_is(use_of(\n",
    "      comparison() % 'filter' \n",
    "      |where| the_first_child_is(inner)\n",
    "      |and_w| the_second_child_is(\n",
    "        literal() % select_as('text', 'rhs')\n",
    "      )\n",
    "      |and_w| no_third_child()\n",
    "  ))\n",
    "  |and_w| the_value_is(anything() % 'target')\n",
    ")\n",
    "\n",
    "single_filters = pd.concat([\n",
    "  execute(match_single_filter(as_subscript), compile=True),\n",
    "  execute(match_single_filter(as_attribute), compile=True)\n",
    "])\n",
    "\n",
    "# Extract the actual \"op\" \n",
    "single_filters['op'] = Utils.get_comp_op(\n",
    "  single_filters, 'source_text_filter', 'rhs'\n",
    ")\n",
    "# Clean up string column names\n",
    "single_filters['field'] = single_filters.field.str.strip('\\'\"`')\n",
    "# Get rhs type\n",
    "single_filters['rhs_type'] = Utils.get_literal_type(single_filters, 'rhs')"
   ]
  },
  {
   "cell_type": "code",
   "execution_count": 4,
   "metadata": {
    "collapsed": true,
    "execution": {
     "iopub.execute_input": "2021-06-24T18:39:12.801Z",
     "iopub.status.busy": "2021-06-24T18:39:12.791Z",
     "iopub.status.idle": "2021-06-24T18:39:12.820Z",
     "shell.execute_reply": "2021-06-24T18:39:12.844Z"
    },
    "jupyter": {
     "outputs_hidden": false,
     "source_hidden": false
    },
    "nteract": {
     "transient": {
      "deleting": false
     }
    }
   },
   "outputs": [
    {
     "data": {
      "text/plain": [
       "0                          Filter[label==str]\n",
       "1                          Filter[label==str]\n",
       "2                          Filter[label==str]\n",
       "3                          Filter[label==str]\n",
       "4                          Filter[label==str]\n",
       "5                          Filter[class==int]\n",
       "6                          Filter[class>=int]\n",
       "7          Filter[background occurrences>int]\n",
       "8                           Filter[lang==str]\n",
       "9                      Filter[paper1_LG==int]\n",
       "10                      Filter[paralog==bool]\n",
       "11                      Filter[paralog==bool]\n",
       "12                        Filter[contig==str]\n",
       "13                        Filter[contig==str]\n",
       "14                        Filter[contig==str]\n",
       "15                Filter[team_long_name==str]\n",
       "16    Filter[TotalEconomicVulnerability>=int]\n",
       "17    Filter[TotalEconomicVulnerability>=int]\n",
       "18                    Filter[heavyTruck>=int]\n",
       "19                          Filter[name==str]\n",
       "dtype: object"
      ]
     },
     "execution_count": 4,
     "metadata": {},
     "output_type": "execute_result"
    }
   ],
   "source": [
    "('Filter[' + single_filters['field'] + single_filters['op'] + single_filters['rhs_type'] + ']').head(20)"
   ]
  },
  {
   "cell_type": "code",
   "execution_count": null,
   "metadata": {
    "collapsed": true,
    "jupyter": {
     "outputs_hidden": false,
     "source_hidden": false
    },
    "nteract": {
     "transient": {
      "deleting": false
     }
    }
   },
   "outputs": [],
   "source": []
  }
 ],
 "metadata": {
  "kernel_info": {
   "name": "python3"
  },
  "kernelspec": {
   "display_name": "Python 3",
   "language": "python",
   "name": "python3"
  },
  "language_info": {
   "codemirror_mode": {
    "name": "ipython",
    "version": 3
   },
   "file_extension": ".py",
   "mimetype": "text/x-python",
   "name": "python",
   "nbconvert_exporter": "python",
   "pygments_lexer": "ipython3",
   "version": "3.9.5"
  },
  "nteract": {
   "version": "nteract-on-jupyter@2.14.1"
  }
 },
 "nbformat": 4,
 "nbformat_minor": 2
}
