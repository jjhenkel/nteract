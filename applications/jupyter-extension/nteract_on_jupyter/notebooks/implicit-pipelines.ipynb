{
 "cells": [
  {
   "cell_type": "code",
   "execution_count": 1,
   "metadata": {
    "execution": {
     "iopub.execute_input": "2021-07-28T02:40:03.835Z",
     "iopub.status.busy": "2021-07-28T02:40:03.758Z",
     "iopub.status.idle": "2021-07-28T02:40:04.099Z",
     "shell.execute_reply": "2021-07-28T02:40:03.934Z"
    }
   },
   "outputs": [],
   "source": [
    "%load_ext autoreload\n",
    "%autoreload 2\n",
    "\n",
    "import pandas as pd\n",
    "import tqdm\n",
    "import json\n",
    "\n",
    "from codebook.python import *\n",
    "from codebook.semantics import DSNotebooks as DSN\n",
    "\n",
    "Evaluator.use_ds_gh_2017()"
   ]
  },
  {
   "cell_type": "code",
   "execution_count": 2,
   "metadata": {
    "collapsed": true,
    "execution": {
     "iopub.execute_input": "2021-07-28T02:12:21.483Z",
     "iopub.status.busy": "2021-07-28T02:12:21.399Z",
     "iopub.status.idle": "2021-07-28T02:12:23.643Z",
     "shell.execute_reply": "2021-07-28T02:12:23.473Z"
    },
    "jupyter": {
     "outputs_hidden": false,
     "source_hidden": false
    },
    "nteract": {
     "transient": {
      "deleting": false
     }
    }
   },
   "outputs": [],
   "source": [
    "import glob\n",
    "import xxhash\n",
    "import os\n",
    "\n",
    "fpaths = []\n",
    "for chunk in glob.glob('/data/gh-2017/chunked/chunk-*'):\n",
    "  with open('{}/listing.txt'.format(chunk)) as fh:\n",
    "      fpaths.extend([ x.strip() for x in fh.readlines() if len(x.strip()) > 0 ])\n",
    "\n",
    "def hashit(thing):\n",
    "    return int.from_bytes(\n",
    "        xxhash.xxh64(thing, seed=3235823838).intdigest().to_bytes(8, byteorder='little'),\n",
    "        signed=True, byteorder=\"little\"\n",
    "    )\n",
    "  \n",
    "fids_to_fpaths = {}\n",
    "for fpath in fpaths:\n",
    "  fids_to_fpaths[hashit('parsed/' + os.path.basename(fpath) + '.xml.gz')] = fpath\n",
    "\n",
    "Evaluator._fids_to_fpaths = fids_to_fpaths"
   ]
  },
  {
   "cell_type": "code",
   "execution_count": null,
   "metadata": {
    "collapsed": true,
    "execution": {
     "iopub.execute_input": "2021-07-25T01:16:18.508Z",
     "iopub.status.busy": "2021-07-25T01:16:18.454Z",
     "iopub.status.idle": "2021-07-25T02:10:06.310Z",
     "shell.execute_reply": "2021-07-25T02:10:06.285Z"
    },
    "jupyter": {
     "outputs_hidden": false,
     "source_hidden": false
    },
    "nteract": {
     "transient": {
      "deleting": false
     }
    }
   },
   "outputs": [],
   "source": [
    "import time \n",
    "\n",
    "OPS = [\n",
    "  ('filters', DSN.filters),\n",
    "  ('single_compares', DSN.single_compares),\n",
    "  ('projections', DSN.projections),\n",
    "  ('pandas_reads', DSN.pandas_reads),\n",
    "  ('likely_labels', DSN.likely_labels),\n",
    "  ('likely_values', DSN.likely_values),\n",
    "  ('column_additions', DSN.column_additions),\n",
    "  ('sklearn_fits', DSN.sklearn_fits),\n",
    "  ('train_test_splits', DSN.train_test_splits),\n",
    "  ('sklearn_fit_transforms', DSN.sklearn_fit_transforms),\n",
    "  ('applies', DSN.applies),\n",
    "  ('copies', DSN.copies),\n",
    "  ('fillna', DSN.fillna),\n",
    "  ('as_matrix', DSN.as_matrix),\n",
    "  ('array', DSN.array),\n",
    "  ('reshape', DSN.reshape),\n",
    "  ('drops', DSN.drops),\n",
    "  ('astype', DSN.astype),\n",
    "  ('dropna', DSN.dropna),\n",
    "  ('replace', DSN.replace),\n",
    "  ('new_data_frame', DSN.new_data_frame),\n",
    "  ('join', DSN.join),\n",
    "  ('merge', DSN.merge),\n",
    "  ('reset_indices', DSN.reset_indices),\n",
    "  ('astype', DSN.astype),\n",
    "  ('get_dummies', DSN.get_dummies),\n",
    "  ('maps', DSN.maps),\n",
    "  ('sklearn_transforms', DSN.sklearn_transforms),\n",
    "]\n",
    "\n",
    "res_frames = []\n",
    "for name, op in OPS:\n",
    "  print('Working on op:={}'.format(name))\n",
    "  start = time.perf_counter()\n",
    "  res_frames.append(op())\n",
    "  elapsed_time = time.perf_counter() - start\n",
    "  print(f\"Total time: {elapsed_time:.4f}s\")\n",
    "  \n",
    "\n",
    "all_ops = pd.concat([\n",
    "  x[['gid', 'pretty']] for x in res_frames\n",
    "])"
   ]
  },
  {
   "cell_type": "code",
   "execution_count": null,
   "metadata": {
    "collapsed": true,
    "execution": {
     "iopub.execute_input": "2021-07-25T02:10:06.421Z",
     "iopub.status.busy": "2021-07-25T02:10:06.340Z",
     "iopub.status.idle": "2021-07-25T02:14:14.099Z",
     "shell.execute_reply": "2021-07-25T02:14:14.076Z"
    },
    "jupyter": {
     "outputs_hidden": false,
     "source_hidden": false
    },
    "nteract": {
     "transient": {
      "deleting": false
     }
    }
   },
   "outputs": [],
   "source": [
    "# Add \"unmodeled\" calls\n",
    "all_calls = DSN.exec(\n",
    "  call() % select('name') % 'call'\n",
    ")\n",
    "\n",
    "# Get the ones we don't have models for \n",
    "all_calls = all_calls[~all_calls.gid_call.isin(all_ops.gid)]\n",
    "all_calls['pretty'] = 'Unmodeled[' + all_calls.out_name_call + ']'\n",
    "all_calls['gid'] = all_calls.gid_call\n",
    "\n",
    "# Add these now as \"unmodeled\" operators\n",
    "all_ops = pd.concat([all_ops, all_calls[['gid', 'pretty']]])\n",
    "\n"
   ]
  },
  {
   "cell_type": "code",
   "execution_count": null,
   "metadata": {
    "collapsed": true,
    "execution": {
     "iopub.execute_input": "2021-07-25T02:14:14.199Z",
     "iopub.status.busy": "2021-07-25T02:14:14.133Z",
     "iopub.status.idle": "2021-07-25T02:21:31.554Z",
     "shell.execute_reply": "2021-07-25T02:21:31.535Z"
    },
    "jupyter": {
     "outputs_hidden": false,
     "source_hidden": false
    },
    "nteract": {
     "transient": {
      "deleting": false
     }
    }
   },
   "outputs": [],
   "source": [
    "print('Getting flows...')\n",
    "flows_df = DSN.flows_reads_to_fits()\n",
    "print('  + Got flows!')"
   ]
  },
  {
   "cell_type": "code",
   "execution_count": null,
   "metadata": {
    "collapsed": true,
    "jupyter": {
     "outputs_hidden": false,
     "source_hidden": false
    },
    "nteract": {
     "transient": {
      "deleting": false
     }
    }
   },
   "outputs": [],
   "source": [
    "flows_df.to_csv('/data/gh-2017/results/new-flows-df.csv', index=False)"
   ]
  },
  {
   "cell_type": "code",
   "execution_count": null,
   "metadata": {
    "collapsed": true,
    "jupyter": {
     "outputs_hidden": false,
     "source_hidden": false
    },
    "nteract": {
     "transient": {
      "deleting": false
     }
    }
   },
   "outputs": [],
   "source": [
    "all_ops.to_csv('/data/gh-2017/results/new-all-ops.csv', index=False)"
   ]
  },
  {
   "cell_type": "code",
   "execution_count": null,
   "metadata": {
    "collapsed": true,
    "execution": {
     "iopub.execute_input": "2021-07-25T03:03:29.097Z",
     "iopub.status.busy": "2021-07-25T03:03:29.073Z",
     "iopub.status.idle": "2021-07-25T02:35:40.803Z",
     "shell.execute_reply": "2021-07-25T02:35:40.691Z"
    },
    "jupyter": {
     "outputs_hidden": false,
     "source_hidden": false
    },
    "nteract": {
     "transient": {
      "deleting": false
     }
    }
   },
   "outputs": [],
   "source": [
    "new_df = pd.DataFrame()\n",
    "\n",
    "print('Joining ops and flows...')\n",
    "# all_ops.set_index('gid', drop=False)\n",
    "\n",
    "print('1')\n",
    "new_df['flow_pretty'] = flows_df.set_index(\n",
    "  'gid_flow', drop=False\n",
    ").join(all_ops[['pretty']]).pretty\n",
    "\n",
    "print('2')\n",
    "new_df['out_to_pretty'] = flows_df.set_index(\n",
    "  'out_to_flow', drop=False\n",
    ").join(all_ops[['pretty']]).pretty\n",
    "print('  + Joined!')\n",
    "\n",
    "# new_df['fid'] = flows_df.fid\n",
    "# new_df['gid_source'] = flows_df.gid_source\n",
    "# new_df['gid_sink'] = flows_df.gid_sink\n",
    "# new_df['start_line_flow'] = flows_df.start_line_flow\n",
    "# new_df['end_line_flow'] = flows_df.end_line_flow\n",
    "# new_df['gid_flow'] = flows_df.gid_flow\n",
    "# new_df['out_to_flow'] = flows_df.out_to_flow\n",
    "# new_df['out_edge_flow'] = flows_df.out_edge_flow\n",
    "\n",
    "print('Grouping by....')\n",
    "implicit_flows = new_df.sort_values(\n",
    "  ['start_line_flow', 'start_col_flow']\n",
    ").groupby(\n",
    "  ['fid', 'gid_source', 'gid_sink']\n",
    ")[[\n",
    "  'gid_flow', 'flow_pretty', \n",
    "  'out_to_flow', 'out_to_pretty',\n",
    "  'out_edge_flow'\n",
    "]].agg(list)\n",
    "print('  + Grouped!')"
   ]
  },
  {
   "cell_type": "code",
   "execution_count": null,
   "metadata": {
    "collapsed": true,
    "execution": {
     "iopub.execute_input": "2021-07-23T19:42:29.796Z",
     "iopub.status.busy": "2021-07-23T19:42:29.762Z",
     "iopub.status.idle": "2021-07-23T19:42:29.868Z",
     "shell.execute_reply": "2021-07-23T19:42:29.836Z"
    },
    "jupyter": {
     "outputs_hidden": false,
     "source_hidden": false
    },
    "nteract": {
     "transient": {
      "deleting": false
     }
    }
   },
   "outputs": [],
   "source": [
    "import networkx as nx\n",
    "from networkx.drawing.nx_pydot import read_dot\n",
    "from networkx.drawing.nx_agraph import to_agraph\n",
    "\n",
    "graphs = []\n",
    "\n",
    "for key, row in implicit_flows.iterrows():\n",
    "  tmp_g = nx.DiGraph()\n",
    "  for (ga, opa), (gb, opb), edge in zip(*row.to_list()):\n",
    "    tmp_g.add_node(ga, label=opa)\n",
    "    tmp_g.add_node(gb, label=opb)\n",
    "    tmp_g.add_edge(ga, gb, label=edge)\n",
    "  graphs.append(tmp_g)"
   ]
  },
  {
   "cell_type": "code",
   "execution_count": null,
   "metadata": {
    "collapsed": true,
    "execution": {
     "iopub.execute_input": "2021-07-23T19:44:08.571Z",
     "iopub.status.busy": "2021-07-23T19:44:08.537Z",
     "iopub.status.idle": "2021-07-23T19:44:08.639Z",
     "shell.execute_reply": "2021-07-23T19:44:08.609Z"
    },
    "jupyter": {
     "outputs_hidden": false,
     "source_hidden": false
    },
    "nteract": {
     "transient": {
      "deleting": false
     }
    }
   },
   "outputs": [],
   "source": [
    "def cleanup_graph(target):\n",
    "  removals = []\n",
    "  for node in  list(target.nodes()):\n",
    "      incoming = target.in_edges(node)\n",
    "      \n",
    "      direct_use = None\n",
    "      non_pure = None\n",
    "      for (s,t) in incoming:\n",
    "        label = target.edges()[s,t]['label']\n",
    "        if label == 'direct-use':\n",
    "          direct_use = (s,t)\n",
    "        elif label == 'non-pure':\n",
    "          non_pure = (s,t)\n",
    "      \n",
    "      if non_pure is None or direct_use is None:\n",
    "        continue\n",
    "        \n",
    "      if (direct_use[0], non_pure[0]) in target.edges():\n",
    "        removals.append(direct_use)\n",
    "  \n",
    "  for e in removals:\n",
    "    target.remove_edge(*e)\n",
    "  \n",
    "  return target\n",
    "      \n",
    "  \n",
    "graphs = list(map(cleanup_graph, graphs))"
   ]
  },
  {
   "cell_type": "code",
   "execution_count": null,
   "metadata": {
    "collapsed": true,
    "execution": {
     "iopub.execute_input": "2021-07-23T19:44:09.236Z",
     "iopub.status.busy": "2021-07-23T19:44:09.204Z",
     "iopub.status.idle": "2021-07-23T19:44:09.410Z",
     "shell.execute_reply": "2021-07-23T19:44:09.362Z"
    },
    "jupyter": {
     "outputs_hidden": false,
     "source_hidden": false
    },
    "nteract": {
     "transient": {
      "deleting": false
     }
    }
   },
   "outputs": [],
   "source": [
    "with open('/app/flow.txt', 'w') as fh:\n",
    "  for i,g in enumerate(list(graphs)):\n",
    "    print('{}/{}'.format(i+1, len(graphs)))\n",
    "    fh.write(str(to_agraph(g)) + '\\n---\\n\\n')\n"
   ]
  },
  {
   "cell_type": "code",
   "execution_count": 3,
   "metadata": {
    "collapsed": true,
    "execution": {
     "iopub.execute_input": "2021-07-28T02:41:53.254Z",
     "iopub.status.busy": "2021-07-28T02:41:53.166Z",
     "iopub.status.idle": "2021-07-28T02:42:40.509Z",
     "shell.execute_reply": "2021-07-28T02:42:40.691Z"
    },
    "jupyter": {
     "outputs_hidden": false,
     "source_hidden": false
    },
    "nteract": {
     "transient": {
      "deleting": false
     }
    }
   },
   "outputs": [
    {
     "name": "stdout",
     "output_type": "stream",
     "text": [
      "  + Query already compiled (cached) `/tmp/queries/fd9ad17a774094f4ddac14f2d1bb905deaed13ec9d06d2ded217bc929f2cd70b.dl`\n",
      "  - TODO: re-enable writing pre-filters.\n",
      "  + File select time: 0.0000s\n",
      "  + Query time: 44.9660s\n",
      "  + Collation time: 2.3608s\n",
      "Total time: 47.3517s\n"
     ]
    }
   ],
   "source": [
    "tmp = DSN.exec(\n",
    "  subscript() % 'op'\n",
    "  |where| the_value_is(\n",
    "    attribute()\n",
    "    |where| the_attribute_is(\n",
    "      identifier(with_text('loc'))\n",
    "    )\n",
    "  )\n",
    "  |and_w| the_first_subscript_is(\n",
    "    slice_() \n",
    "    |where| the_first_child_is(string() % 'sb')\n",
    "    |and_w| the_second_child_is(string() % 'se')\n",
    "  )\n",
    ")"
   ]
  },
  {
   "cell_type": "code",
   "execution_count": 4,
   "metadata": {
    "collapsed": true,
    "execution": {
     "iopub.execute_input": "2021-07-28T02:44:06.050Z",
     "iopub.status.busy": "2021-07-28T02:44:05.971Z",
     "iopub.status.idle": "2021-07-28T02:44:06.267Z",
     "shell.execute_reply": "2021-07-28T02:44:06.192Z"
    },
    "jupyter": {
     "outputs_hidden": false,
     "source_hidden": false
    },
    "nteract": {
     "transient": {
      "deleting": false
     }
    }
   },
   "outputs": [
    {
     "data": {
      "text/plain": [
       "0                ProjectRowSlice['20130102':'20130104']\n",
       "1            ProjectRowSlice['2015-01-01':'2015-06-26']\n",
       "2            ProjectRowSlice['2017-05-01':'2017-05-31']\n",
       "3       ProjectRowSlice[\"735 Dolores St\":\"332 Hill St\"]\n",
       "4                ProjectRowSlice['20130102':'20130105']\n",
       "                             ...                       \n",
       "2471          ProjectRowSlice['m_pred[0]':'m_pred[49]']\n",
       "2472                         ProjectRowSlice['FL':'HI']\n",
       "2473            ProjectRowSlice['1995-12-01':'1996-01']\n",
       "2474                         ProjectRowSlice['ND':'WY']\n",
       "2475                     ProjectRowSlice['1995':'1996']\n",
       "Length: 2476, dtype: object"
      ]
     },
     "execution_count": 4,
     "metadata": {},
     "output_type": "execute_result"
    }
   ],
   "source": [
    "'ProjectRowSlice[' + tmp.source_text_sb + ':' + tmp.source_text_se + ']'"
   ]
  },
  {
   "cell_type": "code",
   "execution_count": null,
   "metadata": {
    "collapsed": true,
    "jupyter": {
     "outputs_hidden": false,
     "source_hidden": false
    },
    "nteract": {
     "transient": {
      "deleting": false
     }
    }
   },
   "outputs": [],
   "source": []
  }
 ],
 "metadata": {
  "kernel_info": {
   "name": "python3"
  },
  "kernelspec": {
   "display_name": "Python 3 (ipykernel)",
   "language": "python",
   "name": "python3"
  },
  "language_info": {
   "codemirror_mode": {
    "name": "ipython",
    "version": 3
   },
   "file_extension": ".py",
   "mimetype": "text/x-python",
   "name": "python",
   "nbconvert_exporter": "python",
   "pygments_lexer": "ipython3",
   "version": "3.9.5"
  },
  "nteract": {
   "version": "nteract-on-jupyter@2.14.1"
  }
 },
 "nbformat": 4,
 "nbformat_minor": 2
}
