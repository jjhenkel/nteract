{
 "cells": [
  {
   "cell_type": "code",
   "execution_count": null,
   "metadata": {
    "collapsed": true,
    "execution": {
     "iopub.execute_input": "2021-07-28T18:27:22.530Z",
     "iopub.status.busy": "2021-07-28T18:27:22.440Z",
     "iopub.status.idle": "2021-07-28T18:27:30.635Z",
     "shell.execute_reply": "2021-07-28T18:27:30.568Z"
    },
    "jupyter": {
     "outputs_hidden": false,
     "source_hidden": false
    },
    "nteract": {
     "transient": {
      "deleting": false
     }
    }
   },
   "outputs": [],
   "source": [
    "!pip3 install qdrant-client transformers torch==1.9.0 ipywidgets IProgress sentence-transformers"
   ]
  },
  {
   "cell_type": "code",
   "execution_count": 88,
   "metadata": {
    "collapsed": true,
    "execution": {
     "iopub.execute_input": "2021-08-10T21:15:31.381Z",
     "iopub.status.busy": "2021-08-10T21:15:31.359Z",
     "iopub.status.idle": "2021-08-10T21:15:32.773Z",
     "shell.execute_reply": "2021-08-10T21:15:32.702Z"
    },
    "jupyter": {
     "outputs_hidden": false,
     "source_hidden": false
    },
    "nteract": {
     "transient": {
      "deleting": false
     }
    }
   },
   "outputs": [],
   "source": [
    "import sys\n",
    "sys.path.append('/arrow/python')\n",
    "\n",
    "import glob\n",
    "import pandas as pd\n",
    "import pyarrow as pa\n",
    "import pyarrow.parquet as pq\n",
    "\n",
    "from qdrant_client import QdrantClient\n",
    "from qdrant_openapi_client.models.models import Filter, FieldCondition, Match, Distance\n",
    "\n",
    "qc = QdrantClient(host=\"code-book-notebooks\", port=6333, timeout=None)\n",
    "\n",
    "qc.recreate_collection(collection_name=\"gh-2017\", vector_size=384, distance=Distance.COSINE)"
   ]
  },
  {
   "cell_type": "code",
   "execution_count": 2,
   "metadata": {
    "collapsed": true,
    "execution": {
     "iopub.execute_input": "2021-07-28T19:11:47.723Z",
     "iopub.status.busy": "2021-07-28T19:11:47.666Z",
     "iopub.status.idle": "2021-07-28T19:11:47.785Z",
     "shell.execute_reply": "2021-07-28T19:11:47.758Z"
    },
    "jupyter": {
     "outputs_hidden": false,
     "source_hidden": false
    },
    "nteract": {
     "transient": {
      "deleting": false
     }
    }
   },
   "outputs": [],
   "source": [
    "nodes = pq.ParquetDataset(\n",
    "  glob.glob('/mnt/chunk-1/relations/node_info.merged/*.parquet')\n",
    ").read().to_pandas()\n",
    "\n",
    "payload = nodes[['text', 'type', 'gid', 'fid']].to_dict('records')"
   ]
  },
  {
   "cell_type": "code",
   "execution_count": 3,
   "metadata": {
    "collapsed": true,
    "execution": {
     "iopub.execute_input": "2021-07-28T19:11:49.663Z",
     "iopub.status.busy": "2021-07-28T19:11:49.640Z",
     "iopub.status.idle": "2021-07-28T19:11:51.301Z",
     "shell.execute_reply": "2021-07-28T19:11:51.238Z"
    },
    "jupyter": {
     "outputs_hidden": false,
     "source_hidden": false
    },
    "nteract": {
     "transient": {
      "deleting": false
     }
    }
   },
   "outputs": [],
   "source": [
    "import numpy as np\n",
    "from sentence_transformers import SentenceTransformer, util\n",
    "\n",
    "# Load\n",
    "model = SentenceTransformer('paraphrase-MiniLM-L6-v2')\n",
    "# Encode\n",
    "vectors = nodes.text.apply(lambda x: model.encode(x))\n",
    "# Reshape a bit\n",
    "vectors_arr = np.array(vectors.values.tolist())\n"
   ]
  },
  {
   "cell_type": "code",
   "execution_count": null,
   "metadata": {
    "collapsed": true,
    "execution": {
     "iopub.execute_input": "2021-07-28T20:40:31.537Z",
     "iopub.status.busy": "2021-07-28T20:40:31.491Z",
     "iopub.status.idle": "2021-07-28T20:41:09.159Z",
     "shell.execute_reply": "2021-07-28T20:41:09.123Z"
    },
    "jupyter": {
     "outputs_hidden": false,
     "source_hidden": false
    },
    "nteract": {
     "transient": {
      "deleting": false
     }
    }
   },
   "outputs": [],
   "source": [
    "qc.upload_collection(\n",
    "    collection_name=\"gh-2017\",\n",
    "    vectors=vectors_arr,\n",
    "    payload=payload,\n",
    "    ids=None,\n",
    "    batch_size=1024,\n",
    "    parallel=16\n",
    ")"
   ]
  },
  {
   "cell_type": "code",
   "execution_count": null,
   "metadata": {
    "collapsed": true,
    "execution": {
     "iopub.execute_input": "2021-07-28T20:59:38.475Z",
     "iopub.status.busy": "2021-07-28T20:59:38.444Z",
     "iopub.status.idle": "2021-07-28T20:59:38.603Z",
     "shell.execute_reply": "2021-07-28T20:59:38.576Z"
    },
    "jupyter": {
     "outputs_hidden": false,
     "source_hidden": false
    },
    "nteract": {
     "transient": {
      "deleting": false
     }
    }
   },
   "outputs": [],
   "source": [
    "results = qc.search(\n",
    "  collection_name=\"gh-2017\",\n",
    "  query_vector=model.encode(\"secretive\"),\n",
    "  top=100,\n",
    "  query_filter=Filter(must=[FieldCondition(key='type', match=Match(keyword=\"string\"))])\n",
    ")\n",
    "\n",
    "[ y['text'] for (x,y) in results if y != {} ]\n",
    "# results"
   ]
  },
  {
   "cell_type": "code",
   "execution_count": null,
   "metadata": {
    "collapsed": true,
    "jupyter": {
     "outputs_hidden": false,
     "source_hidden": false
    },
    "nteract": {
     "transient": {
      "deleting": false
     }
    }
   },
   "outputs": [],
   "source": []
  }
 ],
 "metadata": {
  "kernel_info": {
   "name": "python3"
  },
  "kernelspec": {
   "display_name": "Python 3 (ipykernel)",
   "language": "python",
   "name": "python3"
  },
  "language_info": {
   "codemirror_mode": {
    "name": "ipython",
    "version": 3
   },
   "file_extension": ".py",
   "mimetype": "text/x-python",
   "name": "python",
   "nbconvert_exporter": "python",
   "pygments_lexer": "ipython3",
   "version": "3.9.5"
  },
  "nteract": {
   "version": "nteract-on-jupyter@2.14.1"
  }
 },
 "nbformat": 4,
 "nbformat_minor": 2
}
