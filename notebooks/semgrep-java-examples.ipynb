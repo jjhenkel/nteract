{
 "cells": [
  {
   "cell_type": "markdown",
   "id": "purple-porcelain",
   "metadata": {
    "nteract": {
     "transient": {
      "deleting": false
     }
    }
   },
   "source": [
    "# code-book rules for the \"default ruleset for Java, by r2c\" \n",
    "\n",
    "There are 28 rules in this ruleset. In the notebook, you'll find \n",
    "parallel implementations of each of the rules for `code-book`. This is\n",
    "to help me get an idea of what our high level API should look like, what\n",
    "kinds of operations we need to support, and where we might be able to\n",
    "\"do better\" than SemGrep. This also serves as a nice comparison for\n",
    "performance (eventually, will need to set SemGrep up on the same data)."
   ]
  },
  {
   "cell_type": "code",
   "execution_count": 35,
   "id": "3eb56661-d26c-4f19-9ecc-698ca317291c",
   "metadata": {
    "collapsed": true,
    "execution": {
     "iopub.execute_input": "2021-05-03T20:13:53.725Z",
     "iopub.status.busy": "2021-05-03T20:13:53.614Z",
     "iopub.status.idle": "2021-05-03T20:13:54.100Z",
     "shell.execute_reply": "2021-05-03T20:13:54.381Z"
    },
    "jupyter": {
     "outputs_hidden": false,
     "source_hidden": false
    },
    "nteract": {
     "transient": {
      "deleting": false
     }
    }
   },
   "outputs": [
    {
     "name": "stdout",
     "output_type": "stream",
     "text": [
      "0 1 2 3 4 5 6 7 8 9 10 11 12 13 14 15 16 17 18 19 20 21 22 23 24 25 26 27 28 29 30 31 32 33 34 35 36 37 38 39 40 41 42 43 44 45 46 47 48 49 50 51 52 53 54 55 56 57 58 59 60 61 62 63 64 65 66 67 68 69 70 71 72 73 74 75 76 77 78 79 80 81 82 83 84 85 86 87 88 89 90 91 92 93 94 95 96 97 98 99\n"
     ]
    }
   ],
   "source": [
    "print(' '.join(map(str, list(range(100)))))"
   ]
  },
  {
   "cell_type": "code",
   "execution_count": null,
   "id": "aboriginal-module",
   "metadata": {
    "execution": {
     "iopub.execute_input": "2021-05-03T16:21:18.015Z",
     "iopub.status.busy": "2021-05-03T16:21:17.982Z"
    },
    "jupyter": {
     "outputs_hidden": false,
     "source_hidden": false
    }
   },
   "outputs": [],
   "source": [
    "import codebook.java as cb"
   ]
  },
  {
   "cell_type": "code",
   "execution_count": 36,
   "id": "headed-thermal",
   "metadata": {
    "collapsed": true,
    "execution": {
     "iopub.execute_input": "2021-05-03T20:15:17.676Z",
     "iopub.status.busy": "2021-05-03T20:15:17.586Z"
    },
    "jupyter": {
     "outputs_hidden": false,
     "source_hidden": false
    },
    "nteract": {
     "transient": {
      "deleting": false
     }
    }
   },
   "outputs": [
    {
     "ename": "NameError",
     "evalue": "name 'cb' is not defined",
     "output_type": "error",
     "traceback": [
      "\u001b[0;31m---------------------------------------------------------------------------\u001b[0m",
      "\u001b[0;31mNameError\u001b[0m                                 Traceback (most recent call last)",
      "\u001b[0;32m<ipython-input-36-15a976aee960>\u001b[0m in \u001b[0;36m<module>\u001b[0;34m\u001b[0m\n\u001b[1;32m      1\u001b[0m \u001b[0;31m# SemGrep: httpservlet-path-traversal\u001b[0m\u001b[0;34m\u001b[0m\u001b[0;34m\u001b[0m\u001b[0;34m\u001b[0m\u001b[0m\n\u001b[1;32m      2\u001b[0m \u001b[0;34m\u001b[0m\u001b[0m\n\u001b[0;32m----> 3\u001b[0;31m call_to_get_param = cb.calls('getParameter').receiver_is(\n\u001b[0m\u001b[1;32m      4\u001b[0m     \u001b[0mcb\u001b[0m\u001b[0;34m.\u001b[0m\u001b[0mmethod_params\u001b[0m\u001b[0;34m(\u001b[0m\u001b[0mtype\u001b[0m\u001b[0;34m=\u001b[0m\u001b[0;34m'HttpServletRequest'\u001b[0m\u001b[0;34m)\u001b[0m\u001b[0;34m\u001b[0m\u001b[0;34m\u001b[0m\u001b[0m\n\u001b[1;32m      5\u001b[0m ).bind()\n",
      "\u001b[0;31mNameError\u001b[0m: name 'cb' is not defined"
     ]
    }
   ],
   "source": [
    "# SemGrep: httpservlet-path-traversal\n",
    "\n",
    "call_to_get_param = cb.calls('getParameter').receiver_is(\n",
    "    cb.method_params(type='HttpServletRequest')\n",
    ").bind()\n",
    "\n",
    "# matches = cb.new('File').any_arg_is(call_to_get_param)\n",
    "matches = cb.new().any_arg_is(call_to_get_param)\n"
   ]
  },
  {
   "cell_type": "code",
   "execution_count": null,
   "id": "noticed-beast",
   "metadata": {
    "jupyter": {
     "outputs_hidden": false,
     "source_hidden": false
    }
   },
   "outputs": [],
   "source": [
    "# SemGrep: servletresponse-writer-xss\n",
    "\n",
    "call_to_get_param = cb.calls('getParameter').receiver_is(\n",
    "    cb.method_params(type='HttpServletRequest')\n",
    ").bind()\n",
    "\n",
    "call_to_get_writer = cb.calls('getWriter').receiver_is(\n",
    "    cb.method_params(type='HttpServletResponse')\n",
    ").bind()\n",
    "\n",
    "matches = (\n",
    "    cb.calls('write')\n",
    "      .any_arg_is(call_to_get_param)\n",
    "      .receiver_is(call_to_get_writer)\n",
    ")\n"
   ]
  },
  {
   "cell_type": "code",
   "execution_count": null,
   "id": "indian-helicopter",
   "metadata": {
    "jupyter": {
     "outputs_hidden": false,
     "source_hidden": false
    }
   },
   "outputs": [],
   "source": [
    "# SemGrep: anonymous-ldap-bind\n",
    "\n",
    "bad_env = cb.calls('put').first_arg_is(\n",
    "    cb.field_ref(name='SECURITY_AUTHENTICATION')\n",
    ").second_arg_is(cb.str('none')).bind_receiver()\n",
    "\n",
    "matches = cb.new('InitialDirContext').first_arg_is(bad_env)\n"
   ]
  },
  {
   "cell_type": "code",
   "execution_count": null,
   "id": "original-speaking",
   "metadata": {
    "jupyter": {
     "outputs_hidden": false,
     "source_hidden": false
    }
   },
   "outputs": [],
   "source": [
    "# SemGrep: bad-hexa-conversion\n",
    "\n",
    "digest_results = cb.calls('digest').receiver_is(\n",
    "    cb.vars(type='MessageDigest').bind()\n",
    ").bind()\n",
    "\n",
    "for_over_results = cb.fors().target_container(digest_results).bind()\n",
    "\n",
    "matches = cb.calls('Integer.toHexString').any_arg_is(\n",
    "    cb.deep_ref(for_over_results)\n",
    ")"
   ]
  },
  {
   "cell_type": "code",
   "execution_count": null,
   "id": "saved-spencer",
   "metadata": {
    "jupyter": {
     "outputs_hidden": false,
     "source_hidden": false
    }
   },
   "outputs": [],
   "source": [
    "# SemGrep: cbc-padding-oracle\n",
    "\n",
    "matches = cb.calls('getInstance').first_arg_is(\n",
    "    cb.str(regex=r\".*/CBC/PKCS5Padding/\")\n",
    ")\n"
   ]
  },
  {
   "cell_type": "code",
   "execution_count": null,
   "id": "brutal-listening",
   "metadata": {
    "jupyter": {
     "outputs_hidden": false,
     "source_hidden": false
    }
   },
   "outputs": [],
   "source": [
    "# SemGrep: command-injection-formatted-runtime-call\n",
    "\n",
    "# This one is tricky! Trying to say no exec( ... \"sh\", \"-c\", user_supplied, ...)\n",
    "\n",
    "matches1 = cb.calls(['exec', 'loadLibrary']).first_arg_is(\n",
    "    cb.str_concat_or_format()\n",
    ").receiver_is(cb.calls('getRuntime').bind())\n",
    "\n",
    "matches2 = cb.calls('exec').any_arg_is(\n",
    "    cb.deep_ref(cb.siblings(\n",
    "        cb.str(regex=r\"(sh|bash|ksh|csh|tcsh|zsh)\"),\n",
    "        cb.str('-c'),\n",
    "        cb.var().has_no_init()\n",
    "    ))\n",
    ")\n"
   ]
  },
  {
   "cell_type": "code",
   "execution_count": null,
   "id": "private-bernard",
   "metadata": {
    "jupyter": {
     "outputs_hidden": false,
     "source_hidden": false
    }
   },
   "outputs": [],
   "source": [
    "# SemGrep: formatted-sql-string\n",
    "\n",
    "# TODO: this one is also quite complex (just long...)\n",
    "# we can probably make it a lot shorter!\n",
    "\n",
    "# https://semgrep.dev/editor?registry=java.lang.security.audit.formatted-sql-string.formatted-sql-string"
   ]
  },
  {
   "cell_type": "code",
   "execution_count": null,
   "id": "southern-horizontal",
   "metadata": {
    "jupyter": {
     "outputs_hidden": false,
     "source_hidden": false
    }
   },
   "outputs": [],
   "source": [
    "# SemGrep: http-response-splitting\n",
    "\n",
    "bad_cookie1 = cb.new('Cookie').any_arg_is(\n",
    "    cb.calls('getParameter').bind()\n",
    ")\n",
    "\n",
    "bad_cookie2 = cb.new('Cookie').any_arg_is(\n",
    "    cb.method_params().annotated_with('@PathVariable').bind()\n",
    ")\n",
    "\n",
    "matches = cb.calls('addCookie').first_arg_is(\n",
    "    cb.either(bad_cookie1, bad_cookie2)\n",
    ")\n",
    "\n"
   ]
  },
  {
   "cell_type": "code",
   "execution_count": null,
   "id": "intended-sender",
   "metadata": {
    "jupyter": {
     "outputs_hidden": false,
     "source_hidden": false
    }
   },
   "outputs": [],
   "source": [
    "# SemGrep: ldap-injection\n",
    "\n",
    "context_var = cb.var([\n",
    "    'InitialDirContext',\n",
    "    'DirContext',\n",
    "    'InitialLdapContext',\n",
    "    'LdapContext',\n",
    "    'LdapCtx',\n",
    "    'EventDirContext'\n",
    "]).bind()\n",
    "\n",
    "matches = cb.calls('search').receiver_is(\n",
    "    context_var\n",
    ").second_arg_is(\n",
    "    cb.anything_but(cb.str())\n",
    ")\n"
   ]
  },
  {
   "cell_type": "code",
   "execution_count": null,
   "id": "derived-daniel",
   "metadata": {
    "execution": {
     "iopub.execute_input": "2021-05-03T18:09:54.584Z",
     "iopub.status.busy": "2021-05-03T18:09:54.549Z"
    },
    "jupyter": {
     "outputs_hidden": false,
     "source_hidden": false
    }
   },
   "outputs": [],
   "source": [
    "# SemGrep: object-deserialization\n",
    "\n",
    "matches = cb.new('ObjectInputStream')\n"
   ]
  },
  {
   "cell_type": "code",
   "execution_count": null,
   "id": "horizontal-comedy",
   "metadata": {
    "jupyter": {
     "outputs_hidden": false,
     "source_hidden": false
    }
   },
   "outputs": [],
   "source": [
    "# SemGrep: script-engine-injection\n",
    "\n",
    "matches = cb.calls('eval').receiver_is(cb.either(\n",
    "    cb.field(type='ScriptEngine').bind(),\n",
    "    cb.var(type='ScriptEngine').bind()\n",
    ")).first_arg_is(\n",
    "    cb.anything_but(cb.str())\n",
    ")\n"
   ]
  }
 ],
 "metadata": {
  "kernel_info": {
   "name": "python3"
  },
  "kernelspec": {
   "display_name": "Python 3",
   "language": "python",
   "name": "python3"
  },
  "language_info": {
   "codemirror_mode": {
    "name": "ipython",
    "version": 3
   },
   "file_extension": ".py",
   "mimetype": "text/x-python",
   "name": "python",
   "nbconvert_exporter": "python",
   "pygments_lexer": "ipython3",
   "version": "3.9.4"
  },
  "nteract": {
   "version": "nteract-on-jupyter@2.14.1"
  }
 },
 "nbformat": 4,
 "nbformat_minor": 5
}
